{
  "nbformat": 4,
  "nbformat_minor": 0,
  "metadata": {
    "colab": {
      "provenance": [],
      "authorship_tag": "ABX9TyPDTh6j5JY3fHuteMNsJ7wO",
      "include_colab_link": true
    },
    "kernelspec": {
      "name": "python3",
      "display_name": "Python 3"
    },
    "language_info": {
      "name": "python"
    }
  },
  "cells": [
    {
      "cell_type": "markdown",
      "metadata": {
        "id": "view-in-github",
        "colab_type": "text"
      },
      "source": [
        "<a href=\"https://colab.research.google.com/github/davidlealo/100profes/blob/master/prueba_usuarios_chat.ipynb\" target=\"_parent\"><img src=\"https://colab.research.google.com/assets/colab-badge.svg\" alt=\"Open In Colab\"/></a>"
      ]
    },
    {
      "cell_type": "code",
      "execution_count": 1,
      "metadata": {
        "colab": {
          "base_uri": "https://localhost:8080/"
        },
        "id": "l4zgdv3iC-dq",
        "outputId": "74742d76-4f06-4da4-fef0-6f040e5bb2ed"
      },
      "outputs": [
        {
          "name": "stdout",
          "output_type": "stream",
          "text": [
            "Prueba de Chat con Memoria\n",
            "Ingresa tu ID de usuario (escribe 'salir' para terminar): 1\n",
            "Tú: David\n",
            "[INFO] Nueva sesión creada para el usuario: 1\n",
            "Chatbot: Hola, 1. Me dijiste: David. Es nuestra primera conversación.\n",
            "Ingresa tu ID de usuario (escribe 'salir' para terminar): 1\n",
            "Tú: David\n",
            "Chatbot: Hola, 1. Me dijiste: David. Recuerdo que también mencionaste: David.\n",
            "Ingresa tu ID de usuario (escribe 'salir' para terminar): 1\n",
            "Tú: Hola\n",
            "Chatbot: Hola, 1. Me dijiste: Hola. Recuerdo que también mencionaste: David | David.\n",
            "Ingresa tu ID de usuario (escribe 'salir' para terminar): 2\n",
            "Tú: Bea\n",
            "[INFO] Nueva sesión creada para el usuario: 2\n",
            "Chatbot: Hola, 2. Me dijiste: Bea. Es nuestra primera conversación.\n",
            "Ingresa tu ID de usuario (escribe 'salir' para terminar): salir\n"
          ]
        }
      ],
      "source": [
        "# Simulación de un chat con memoria de usuario\n",
        "\n",
        "# Memoria para almacenar el contexto por usuario (simulación en memoria)\n",
        "user_sessions = {}\n",
        "\n",
        "# Función para manejar la interacción con el usuario\n",
        "def chat_with_user(user_id, message):\n",
        "    # Recuperar el contexto del usuario si existe\n",
        "    if user_id not in user_sessions:\n",
        "        user_sessions[user_id] = {\"context\": []}\n",
        "        print(f\"[INFO] Nueva sesión creada para el usuario: {user_id}\")\n",
        "\n",
        "    context = user_sessions[user_id][\"context\"]\n",
        "\n",
        "    # Crear la respuesta basándonos en el contexto\n",
        "    response = f\"Hola, {user_id}. Me dijiste: {message}. \"\n",
        "    if context:\n",
        "        response += f\"Recuerdo que también mencionaste: {' | '.join(context)}.\"\n",
        "    else:\n",
        "        response += \"Es nuestra primera conversación.\"\n",
        "\n",
        "    # Actualizar el contexto con el mensaje actual\n",
        "    context.append(message)\n",
        "    user_sessions[user_id][\"context\"] = context\n",
        "\n",
        "    return response\n",
        "\n",
        "# Probar el sistema de chat\n",
        "print(\"Prueba de Chat con Memoria\")\n",
        "while True:\n",
        "    user_id = input(\"Ingresa tu ID de usuario (escribe 'salir' para terminar): \")\n",
        "    if user_id.lower() == \"salir\":\n",
        "        break\n",
        "    message = input(\"Tú: \")\n",
        "    response = chat_with_user(user_id, message)\n",
        "    print(f\"Chatbot: {response}\")\n"
      ]
    },
    {
      "cell_type": "code",
      "source": [
        "user_sessions"
      ],
      "metadata": {
        "colab": {
          "base_uri": "https://localhost:8080/"
        },
        "id": "jMo2cRjBDipU",
        "outputId": "39af622b-488e-488d-b9c8-8c7322222c32"
      },
      "execution_count": 2,
      "outputs": [
        {
          "output_type": "execute_result",
          "data": {
            "text/plain": [
              "{'1': {'context': ['David', 'David', 'Hola']}, '2': {'context': ['Bea']}}"
            ]
          },
          "metadata": {},
          "execution_count": 2
        }
      ]
    },
    {
      "cell_type": "markdown",
      "source": [
        "## Nuevo enfoque con API DE MISTRAL\n"
      ],
      "metadata": {
        "id": "GxJwcTFFEIB8"
      }
    },
    {
      "cell_type": "code",
      "source": [
        "from getpass import getpass\n",
        "\n",
        "# Solicitar la API key de Mistral\n",
        "MISTRAL_API_KEY = getpass(\"Ingresa tu API key de Mistral: \")\n",
        "\n",
        "# Confirmar que la clave fue ingresada (sin mostrarla)\n",
        "if MISTRAL_API_KEY:\n",
        "    print(\"API key configurada correctamente.\")\n",
        "else:\n",
        "    print(\"No ingresaste una API key. Por favor, reinicia y vuelve a intentarlo.\")\n"
      ],
      "metadata": {
        "colab": {
          "base_uri": "https://localhost:8080/"
        },
        "id": "X7rBJQoHEKfk",
        "outputId": "d8620ba2-2c37-4e7a-c4d8-f91deadc5be4"
      },
      "execution_count": 5,
      "outputs": [
        {
          "output_type": "stream",
          "name": "stdout",
          "text": [
            "Ingresa tu API key de Mistral: ··········\n",
            "API key configurada correctamente.\n"
          ]
        }
      ]
    },
    {
      "cell_type": "code",
      "source": [
        "!pip install mistralai"
      ],
      "metadata": {
        "colab": {
          "base_uri": "https://localhost:8080/"
        },
        "id": "bCoKLJlbHLKi",
        "outputId": "8bb3a461-efaa-4f41-a516-85f12b3f198c"
      },
      "execution_count": 15,
      "outputs": [
        {
          "output_type": "stream",
          "name": "stdout",
          "text": [
            "Collecting mistralai\n",
            "  Downloading mistralai-1.2.5-py3-none-any.whl.metadata (27 kB)\n",
            "Requirement already satisfied: eval-type-backport<0.3.0,>=0.2.0 in /usr/local/lib/python3.10/dist-packages (from mistralai) (0.2.0)\n",
            "Collecting httpx<0.28.0,>=0.27.0 (from mistralai)\n",
            "  Downloading httpx-0.27.2-py3-none-any.whl.metadata (7.1 kB)\n",
            "Collecting jsonpath-python<2.0.0,>=1.0.6 (from mistralai)\n",
            "  Downloading jsonpath_python-1.0.6-py3-none-any.whl.metadata (12 kB)\n",
            "Requirement already satisfied: pydantic<3.0.0,>=2.9.0 in /usr/local/lib/python3.10/dist-packages (from mistralai) (2.10.3)\n",
            "Requirement already satisfied: python-dateutil<3.0.0,>=2.8.2 in /usr/local/lib/python3.10/dist-packages (from mistralai) (2.8.2)\n",
            "Collecting typing-inspect<0.10.0,>=0.9.0 (from mistralai)\n",
            "  Downloading typing_inspect-0.9.0-py3-none-any.whl.metadata (1.5 kB)\n",
            "Requirement already satisfied: anyio in /usr/local/lib/python3.10/dist-packages (from httpx<0.28.0,>=0.27.0->mistralai) (3.7.1)\n",
            "Requirement already satisfied: certifi in /usr/local/lib/python3.10/dist-packages (from httpx<0.28.0,>=0.27.0->mistralai) (2024.12.14)\n",
            "Requirement already satisfied: httpcore==1.* in /usr/local/lib/python3.10/dist-packages (from httpx<0.28.0,>=0.27.0->mistralai) (1.0.7)\n",
            "Requirement already satisfied: idna in /usr/local/lib/python3.10/dist-packages (from httpx<0.28.0,>=0.27.0->mistralai) (3.10)\n",
            "Requirement already satisfied: sniffio in /usr/local/lib/python3.10/dist-packages (from httpx<0.28.0,>=0.27.0->mistralai) (1.3.1)\n",
            "Requirement already satisfied: h11<0.15,>=0.13 in /usr/local/lib/python3.10/dist-packages (from httpcore==1.*->httpx<0.28.0,>=0.27.0->mistralai) (0.14.0)\n",
            "Requirement already satisfied: annotated-types>=0.6.0 in /usr/local/lib/python3.10/dist-packages (from pydantic<3.0.0,>=2.9.0->mistralai) (0.7.0)\n",
            "Requirement already satisfied: pydantic-core==2.27.1 in /usr/local/lib/python3.10/dist-packages (from pydantic<3.0.0,>=2.9.0->mistralai) (2.27.1)\n",
            "Requirement already satisfied: typing-extensions>=4.12.2 in /usr/local/lib/python3.10/dist-packages (from pydantic<3.0.0,>=2.9.0->mistralai) (4.12.2)\n",
            "Requirement already satisfied: six>=1.5 in /usr/local/lib/python3.10/dist-packages (from python-dateutil<3.0.0,>=2.8.2->mistralai) (1.17.0)\n",
            "Collecting mypy-extensions>=0.3.0 (from typing-inspect<0.10.0,>=0.9.0->mistralai)\n",
            "  Downloading mypy_extensions-1.0.0-py3-none-any.whl.metadata (1.1 kB)\n",
            "Requirement already satisfied: exceptiongroup in /usr/local/lib/python3.10/dist-packages (from anyio->httpx<0.28.0,>=0.27.0->mistralai) (1.2.2)\n",
            "Downloading mistralai-1.2.5-py3-none-any.whl (260 kB)\n",
            "\u001b[2K   \u001b[90m━━━━━━━━━━━━━━━━━━━━━━━━━━━━━━━━━━━━━━━━\u001b[0m \u001b[32m260.0/260.0 kB\u001b[0m \u001b[31m15.2 MB/s\u001b[0m eta \u001b[36m0:00:00\u001b[0m\n",
            "\u001b[?25hDownloading httpx-0.27.2-py3-none-any.whl (76 kB)\n",
            "\u001b[2K   \u001b[90m━━━━━━━━━━━━━━━━━━━━━━━━━━━━━━━━━━━━━━━━\u001b[0m \u001b[32m76.4/76.4 kB\u001b[0m \u001b[31m6.5 MB/s\u001b[0m eta \u001b[36m0:00:00\u001b[0m\n",
            "\u001b[?25hDownloading jsonpath_python-1.0.6-py3-none-any.whl (7.6 kB)\n",
            "Downloading typing_inspect-0.9.0-py3-none-any.whl (8.8 kB)\n",
            "Downloading mypy_extensions-1.0.0-py3-none-any.whl (4.7 kB)\n",
            "Installing collected packages: mypy-extensions, jsonpath-python, typing-inspect, httpx, mistralai\n",
            "  Attempting uninstall: httpx\n",
            "    Found existing installation: httpx 0.28.1\n",
            "    Uninstalling httpx-0.28.1:\n",
            "      Successfully uninstalled httpx-0.28.1\n",
            "Successfully installed httpx-0.27.2 jsonpath-python-1.0.6 mistralai-1.2.5 mypy-extensions-1.0.0 typing-inspect-0.9.0\n"
          ]
        }
      ]
    },
    {
      "cell_type": "code",
      "source": [
        "from mistralai import Mistral\n"
      ],
      "metadata": {
        "id": "bke35DKKHKS7"
      },
      "execution_count": 16,
      "outputs": []
    },
    {
      "cell_type": "code",
      "source": [
        "import requests\n",
        "from flask import Flask, request, jsonify\n",
        "from threading import Thread\n",
        "from getpass import getpass\n",
        "\n",
        "# Solicitar la API key de Mistral\n",
        "MISTRAL_API_KEY = getpass(\"Ingresa tu API key de Mistral: \")\n",
        "\n",
        "if not MISTRAL_API_KEY:\n",
        "    raise ValueError(\"No se ingresó una API key. Deteniendo ejecución.\")\n",
        "\n",
        "# Simulación de sesiones en memoria\n",
        "user_sessions = {}\n",
        "\n",
        "# URL de la API de Mistral\n",
        "MISTRAL_API_URL = \"https://api.mistral.ai/v1/chat/completions\"\n",
        "\n",
        "app = Flask(__name__)\n",
        "\n",
        "def query_mistral(prompt):\n",
        "    \"\"\"\n",
        "    Consulta la API de Mistral para generar una respuesta.\n",
        "    \"\"\"\n",
        "    headers = {\n",
        "        \"Authorization\": f\"Bearer {MISTRAL_API_KEY}\",\n",
        "        \"Content-Type\": \"application/json\"\n",
        "    }\n",
        "    payload = {\n",
        "        \"model\": \"mistral-7b-v0.1\",  # Cambia este modelo según la documentación\n",
        "        \"messages\": [{\"role\": \"user\", \"content\": prompt}],\n",
        "        \"max_tokens\": 150,\n",
        "        \"temperature\": 0.7,  # Creatividad de la respuesta\n",
        "        \"top_p\": 1.0  # Diversidad en la generación\n",
        "    }\n",
        "\n",
        "    print(\"Payload enviado:\", payload)  # Ayuda para depurar el payload enviado\n",
        "\n",
        "    try:\n",
        "        response = requests.post(MISTRAL_API_URL, json=payload, headers=headers)\n",
        "        response.raise_for_status()  # Lanza excepción para códigos de error HTTP\n",
        "        return response.json()[\"choices\"][0][\"message\"][\"content\"]\n",
        "    except requests.exceptions.RequestException as e:\n",
        "        # Capturar errores HTTP o de red\n",
        "        print(\"Respuesta completa del error:\", e.response.text if e.response else \"Sin respuesta del servidor\")\n",
        "        return f\"Error al consultar la API de Mistral: {e}\"\n",
        "    except KeyError:\n",
        "        # Capturar errores si la estructura de respuesta no es la esperada\n",
        "        return \"Error: respuesta inesperada de la API.\"\n",
        "\n",
        "@app.route(\"/chat\", methods=[\"POST\"])\n",
        "def chat():\n",
        "    \"\"\"\n",
        "    Endpoint para gestionar el chat.\n",
        "    \"\"\"\n",
        "    data = request.json\n",
        "    user_id = data.get(\"user_id\")\n",
        "    message = data.get(\"message\")\n",
        "\n",
        "    if not user_id or not message:\n",
        "        return jsonify({\"error\": \"user_id y message son requeridos\"}), 400\n",
        "\n",
        "    # Crear o recuperar el contexto del usuario\n",
        "    if user_id not in user_sessions:\n",
        "        user_sessions[user_id] = {\"context\": []}\n",
        "\n",
        "    context = user_sessions[user_id][\"context\"]\n",
        "    full_prompt = f\"Contexto previo: {' '.join(context)}\\nUsuario: {message}\"\n",
        "\n",
        "    # Generar respuesta usando la API de Mistral\n",
        "    response = query_mistral(full_prompt)\n",
        "\n",
        "    # Actualizar el contexto\n",
        "    context.append(message)\n",
        "    user_sessions[user_id][\"context\"] = context\n",
        "\n",
        "    return jsonify({\"response\": response})\n",
        "\n",
        "# Iniciar el servidor\n",
        "def run():\n",
        "    app.run(host=\"0.0.0.0\", port=5002)  # Cambia a un puerto diferente si es necesario\n",
        "\n",
        "# Iniciar el servidor en un hilo para evitar bloqueos\n",
        "thread = Thread(target=run)\n",
        "thread.start()\n"
      ],
      "metadata": {
        "colab": {
          "base_uri": "https://localhost:8080/"
        },
        "id": "oxqVmvz3EU8O",
        "outputId": "ac762a9b-e05d-48be-835d-e34807149608"
      },
      "execution_count": 13,
      "outputs": [
        {
          "output_type": "stream",
          "name": "stdout",
          "text": [
            "Ingresa tu API key de Mistral: ··········\n",
            " * Serving Flask app '__main__'\n",
            " * Debug mode: off\n"
          ]
        },
        {
          "output_type": "stream",
          "name": "stderr",
          "text": [
            "INFO:werkzeug:\u001b[31m\u001b[1mWARNING: This is a development server. Do not use it in a production deployment. Use a production WSGI server instead.\u001b[0m\n",
            " * Running on all addresses (0.0.0.0)\n",
            " * Running on http://127.0.0.1:5002\n",
            " * Running on http://172.28.0.12:5002\n",
            "INFO:werkzeug:\u001b[33mPress CTRL+C to quit\u001b[0m\n"
          ]
        }
      ]
    },
    {
      "cell_type": "code",
      "source": [
        "import requests\n",
        "\n",
        "API_URL = \"http://127.0.0.1:5002/chat\"\n",
        "user_id = \"user123\"\n",
        "\n",
        "while True:\n",
        "    message = input(\"Tú: \")\n",
        "    if message.lower() == \"salir\":\n",
        "        break\n",
        "    response = requests.post(API_URL, json={\"user_id\": user_id, \"message\": message})\n",
        "    if response.status_code == 200:\n",
        "        print(\"Chatbot:\", response.json()[\"response\"])\n",
        "    else:\n",
        "        print(\"Error:\", response.text)\n"
      ],
      "metadata": {
        "colab": {
          "base_uri": "https://localhost:8080/"
        },
        "id": "XSJ2GrK1EYRO",
        "outputId": "86b499fe-ccb5-4dfb-db21-06a804c9afca"
      },
      "execution_count": 14,
      "outputs": [
        {
          "name": "stdout",
          "output_type": "stream",
          "text": [
            "Tú: Hola\n"
          ]
        },
        {
          "output_type": "stream",
          "name": "stderr",
          "text": [
            "INFO:werkzeug:127.0.0.1 - - [31/Dec/2024 00:24:27] \"POST /chat HTTP/1.1\" 200 -\n"
          ]
        },
        {
          "name": "stdout",
          "output_type": "stream",
          "text": [
            "Payload enviado: {'model': 'mistral-7b-v0.1', 'messages': [{'role': 'user', 'content': 'Contexto previo: \\nUsuario: Hola'}], 'max_tokens': 150, 'temperature': 0.7, 'top_p': 1.0}\n",
            "Respuesta completa del error: Sin respuesta del servidor\n",
            "Chatbot: Error al consultar la API de Mistral: 400 Client Error: Bad Request for url: https://api.mistral.ai/v1/chat/completions\n",
            "Tú: Mi nombre es david\n"
          ]
        },
        {
          "output_type": "stream",
          "name": "stderr",
          "text": [
            "INFO:werkzeug:127.0.0.1 - - [31/Dec/2024 00:24:36] \"POST /chat HTTP/1.1\" 200 -\n"
          ]
        },
        {
          "name": "stdout",
          "output_type": "stream",
          "text": [
            "Payload enviado: {'model': 'mistral-7b-v0.1', 'messages': [{'role': 'user', 'content': 'Contexto previo: Hola\\nUsuario: Mi nombre es david'}], 'max_tokens': 150, 'temperature': 0.7, 'top_p': 1.0}\n",
            "Respuesta completa del error: Sin respuesta del servidor\n",
            "Chatbot: Error al consultar la API de Mistral: 400 Client Error: Bad Request for url: https://api.mistral.ai/v1/chat/completions\n",
            "Tú: salir\n"
          ]
        }
      ]
    },
    {
      "cell_type": "markdown",
      "source": [
        "## Otro enfoque de uso de la api"
      ],
      "metadata": {
        "id": "CsKdA1CkHvg-"
      }
    },
    {
      "cell_type": "code",
      "source": [
        "import os\n",
        "from flask import Flask, request, jsonify\n",
        "from threading import Thread\n",
        "from getpass import getpass\n",
        "from mistralai import Mistral\n",
        "\n",
        "# Solicitar la API key de Mistral\n",
        "MISTRAL_API_KEY = getpass(\"Ingresa tu API key de Mistral: \")\n",
        "\n",
        "if not MISTRAL_API_KEY:\n",
        "    raise ValueError(\"No se ingresó una API key. Deteniendo ejecución.\")\n",
        "\n",
        "# Configurar la API Key en las variables de entorno\n",
        "os.environ[\"MISTRAL_API_KEY\"] = MISTRAL_API_KEY\n",
        "\n",
        "# Inicializar el cliente de Mistral\n",
        "client = Mistral(api_key=MISTRAL_API_KEY)\n",
        "\n",
        "# Modelo de Mistral a utilizar\n",
        "MODEL_NAME = \"mistral-large-latest\"\n",
        "\n",
        "# Simulación de sesiones en memoria\n",
        "user_sessions = {}\n",
        "\n",
        "app = Flask(__name__)\n",
        "\n",
        "def query_mistral(prompt):\n",
        "    \"\"\"\n",
        "    Consulta la API de Mistral para generar una respuesta.\n",
        "    \"\"\"\n",
        "    try:\n",
        "        # Enviar el prompt al modelo de Mistral\n",
        "        chat_response = client.chat.complete(\n",
        "            model=MODEL_NAME,\n",
        "            messages=[\n",
        "                {\n",
        "                    \"role\": \"user\",\n",
        "                    \"content\": prompt,\n",
        "                }\n",
        "            ]\n",
        "        )\n",
        "        # Devolver la respuesta generada por el modelo\n",
        "        return chat_response.choices[0].message.content\n",
        "    except Exception as e:\n",
        "        # Capturar y manejar errores\n",
        "        return f\"Error al consultar la API de Mistral: {str(e)}\"\n",
        "\n",
        "@app.route(\"/chat\", methods=[\"POST\"])\n",
        "def chat():\n",
        "    \"\"\"\n",
        "    Endpoint para gestionar el chat.\n",
        "    \"\"\"\n",
        "    data = request.json\n",
        "    user_id = data.get(\"user_id\")\n",
        "    message = data.get(\"message\")\n",
        "\n",
        "    if not user_id or not message:\n",
        "        return jsonify({\"error\": \"user_id y message son requeridos\"}), 400\n",
        "\n",
        "    # Crear o recuperar el contexto del usuario\n",
        "    if user_id not in user_sessions:\n",
        "        user_sessions[user_id] = {\"context\": []}\n",
        "\n",
        "    context = user_sessions[user_id][\"context\"]\n",
        "    full_prompt = f\"Contexto previo: {' '.join(context)}\\nUsuario: {message}\"\n",
        "\n",
        "    # Generar respuesta usando la API de Mistral\n",
        "    response = query_mistral(full_prompt)\n",
        "\n",
        "    # Actualizar el contexto\n",
        "    context.append(message)\n",
        "    user_sessions[user_id][\"context\"] = context\n",
        "\n",
        "    return jsonify({\"response\": response})\n",
        "\n",
        "# Iniciar el servidor\n",
        "def run():\n",
        "    app.run(host=\"0.0.0.0\", port=5005)\n",
        "\n",
        "thread = Thread(target=run)\n",
        "thread.start()\n"
      ],
      "metadata": {
        "colab": {
          "base_uri": "https://localhost:8080/"
        },
        "id": "e2gc_wkXHx6s",
        "outputId": "e2a2a72d-24c6-4b72-9205-adbbbae2bcdd"
      },
      "execution_count": 18,
      "outputs": [
        {
          "output_type": "stream",
          "name": "stdout",
          "text": [
            "Ingresa tu API key de Mistral: ··········\n",
            " * Serving Flask app '__main__'\n",
            " * Debug mode: off\n"
          ]
        },
        {
          "output_type": "stream",
          "name": "stderr",
          "text": [
            "INFO:werkzeug:\u001b[31m\u001b[1mWARNING: This is a development server. Do not use it in a production deployment. Use a production WSGI server instead.\u001b[0m\n",
            " * Running on all addresses (0.0.0.0)\n",
            " * Running on http://127.0.0.1:5005\n",
            " * Running on http://172.28.0.12:5005\n",
            "INFO:werkzeug:\u001b[33mPress CTRL+C to quit\u001b[0m\n"
          ]
        }
      ]
    },
    {
      "cell_type": "code",
      "source": [
        "import requests\n",
        "\n",
        "API_URL = \"http://127.0.0.1:5005/chat\"\n",
        "user_id = \"user123\"\n",
        "\n",
        "while True:\n",
        "    message = input(\"Tú: \")\n",
        "    if message.lower() == \"salir\":\n",
        "        break\n",
        "    response = requests.post(API_URL, json={\"user_id\": user_id, \"message\": message})\n",
        "    if response.status_code == 200:\n",
        "        print(\"Chatbot:\", response.json()[\"response\"])\n",
        "    else:\n",
        "        print(\"Error:\", response.text)\n"
      ],
      "metadata": {
        "colab": {
          "base_uri": "https://localhost:8080/"
        },
        "id": "Ps6-v4SsH8bh",
        "outputId": "38174b25-0609-4779-82f0-64755ed1403e"
      },
      "execution_count": 19,
      "outputs": [
        {
          "name": "stdout",
          "output_type": "stream",
          "text": [
            "Tú: Hola\n"
          ]
        },
        {
          "output_type": "stream",
          "name": "stderr",
          "text": [
            "INFO:werkzeug:127.0.0.1 - - [31/Dec/2024 00:31:30] \"POST /chat HTTP/1.1\" 200 -\n"
          ]
        },
        {
          "name": "stdout",
          "output_type": "stream",
          "text": [
            "Chatbot: ¡Hola! ¿Cómo puedo ayudarte hoy?\n",
            "Tú: Quiero saber algo sobre SONIC\n"
          ]
        },
        {
          "output_type": "stream",
          "name": "stderr",
          "text": [
            "INFO:werkzeug:127.0.0.1 - - [31/Dec/2024 00:31:54] \"POST /chat HTTP/1.1\" 200 -\n"
          ]
        },
        {
          "name": "stdout",
          "output_type": "stream",
          "text": [
            "Chatbot: ¡Claro! SONIC es un personaje icónico creado por Yuji Naka, Naoto Ohshima y Hirokazu Yasuhara para la empresa Sega. Es un erizo azul conocido por su velocidad supersónica. Aquí tienes algunos puntos clave sobre SONIC:\n",
            "\n",
            "1. **Origen y Debut**: SONIC debutó en el videojuego \"Sonic the Hedgehog\" lanzado en 1991 para la consola Sega Genesis (Mega Drive en otras regiones). Fue creado como una respuesta a Mario, el personaje principal de Nintendo.\n",
            "\n",
            "2. **Habilidades**: SONIC es famoso por su habilidad para correr a velocidades supersónicas y realizar giros rápidos para atacar a sus enemigos y romper obstáculos.\n",
            "\n",
            "3. **Franquicia**: La franquicia de SONIC incluye numerosos videojuegos, series de televisión, cómics, películas y una amplia gama de mercancía. Algunos de los juegos más populares incluyen \"Sonic the Hedgehog 2\", \"Sonic Adventure\", \"Sonic Generations\" y \"Sonic Mania\".\n",
            "\n",
            "4. **Personajes Relacionados**: Además de SONIC, la franquicia cuenta con una variedad de personajes como Tails (Miles Prower), Knuckles the Echidna, Amy Rose, Dr. Eggman (también conocido como Dr. Robotnik) y Shadow the Hedgehog.\n",
            "\n",
            "5. **Películas**: SONIC ha aparecido en películas de acción en vivo, como \"Sonic the Hedgehog\" (2020) y su secuela \"Sonic the Hedgehog 2\" (2022), que han sido bien recibidas tanto por los fans como por la crítica.\n",
            "\n",
            "6. **Influencia Cultural**: SONIC ha tenido un impacto significativo en la cultura pop y los videojuegos, y es considerado uno de los personajes más icónicos en la historia de los videojuegos.\n",
            "\n",
            "Si tienes alguna pregunta específica sobre SONIC o algún aspecto de su franquicia, ¡no dudes en preguntar!\n",
            "Tú: quiero preguntar otra cosa\n"
          ]
        },
        {
          "output_type": "stream",
          "name": "stderr",
          "text": [
            "INFO:werkzeug:127.0.0.1 - - [31/Dec/2024 00:32:08] \"POST /chat HTTP/1.1\" 200 -\n"
          ]
        },
        {
          "name": "stdout",
          "output_type": "stream",
          "text": [
            "Chatbot: ¡Claro! ¿En qué puedo ayudarte? Estoy aquí para responder cualquier pregunta que tengas.\n",
            "Tú: de qué personaje pop te hablé antes?\n"
          ]
        },
        {
          "output_type": "stream",
          "name": "stderr",
          "text": [
            "INFO:werkzeug:127.0.0.1 - - [31/Dec/2024 00:32:20] \"POST /chat HTTP/1.1\" 200 -\n"
          ]
        },
        {
          "name": "stdout",
          "output_type": "stream",
          "text": [
            "Chatbot: No mencionaste ningún personaje pop en tu mensaje anterior. Solo mencionaste que querías saber algo sobre SONIC. Si tienes alguna otra pregunta o necesitas información sobre otro personaje pop, por favor házmelo saber y estaré encantado de ayudarte.\n",
            "Tú: Sonic es un personaje pop, según lo entiendo\n"
          ]
        },
        {
          "output_type": "stream",
          "name": "stderr",
          "text": [
            "INFO:werkzeug:127.0.0.1 - - [31/Dec/2024 00:32:39] \"POST /chat HTTP/1.1\" 200 -\n"
          ]
        },
        {
          "name": "stdout",
          "output_type": "stream",
          "text": [
            "Chatbot: Entiendo, parece que hay un poco de confusión. SONIC puede referirse a varias cosas, pero en el contexto de personajes pop, probablemente te refieres a Sonic the Hedgehog, el icónico personaje de videojuegos creado por Sega. Sonic es un erizo azul conocido por su velocidad supersónica y su papel protagonista en una serie de juegos de plataformas que comenzó en 1991.\n",
            "\n",
            "Si me mencionaste otro personaje pop antes, por favor recuérdamelo para que pueda ayudarte mejor con tu pregunta.\n",
            "Tú: Sí, ese SOnic. Esta semana vi su tercera película. Se estrenó después de navidad de 2024 en Chile\n"
          ]
        },
        {
          "output_type": "stream",
          "name": "stderr",
          "text": [
            "INFO:werkzeug:127.0.0.1 - - [31/Dec/2024 00:33:18] \"POST /chat HTTP/1.1\" 200 -\n"
          ]
        },
        {
          "name": "stdout",
          "output_type": "stream",
          "text": [
            "Chatbot: ¡Genial! Me alegra saber que te interesa tanto Sonic. Sonic the Hedgehog es un personaje icónico de los videojuegos, creado por Sega. Es conocido por su increíble velocidad y ha sido protagonista de numerosas series de videojuegos, así como de varias películas y series animadas.\n",
            "\n",
            "En cuanto a la pregunta sobre el otro personaje pop que mencionaste antes, no tengo esa información. ¿Podrías especificar un poco más sobre el personaje al que te refieres? Estoy aquí para ayudarte con cualquier información que necesites.\n",
            "\n",
            "Por cierto, es interesante saber que viste la tercera película de Sonic. ¿Hay algún detalle específico sobre la película o la historia que te gustaría discutir? Estoy aquí para ayudarte con cualquier curiosidad que tengas sobre Sonic o su universo.\n",
            "Tú: tienes información de esa película?\n"
          ]
        },
        {
          "output_type": "stream",
          "name": "stderr",
          "text": [
            "INFO:werkzeug:127.0.0.1 - - [31/Dec/2024 00:33:46] \"POST /chat HTTP/1.1\" 200 -\n"
          ]
        },
        {
          "name": "stdout",
          "output_type": "stream",
          "text": [
            "Chatbot: Hasta mi última actualización en octubre de 2023, no tengo información sobre una tercera película de Sonic que se estrenaría después de Navidad de 2024. Sin embargo, puedo compartir información sobre las primeras dos películas de Sonic y lo que se sabe hasta ahora sobre posibles futuras producciones.\n",
            "\n",
            "1. **\"Sonic the Hedgehog\" (2020)**:\n",
            "   - **Director**: Jeff Fowler\n",
            "   - **Sinopsis**: La película sigue a Sonic, un erizo azul extraterrestre que puede correr a velocidades supersónicas, mientras se adapta a la vida en la Tierra y evita ser capturado por el malvado Dr. Robotnik.\n",
            "   - **Recepción**: La película recibió críticas mixtas a positivas y fue un éxito de taquilla.\n",
            "\n",
            "2. **\"Sonic the Hedgehog 2\" (2022)**:\n",
            "   - **Director**: Jeff Fowler\n",
            "   - **Sinopsis**: En esta secuela, Sonic se une a su nuevo amigo Tails para encontrar el Esmeralda Maestra antes de que caiga en manos del Dr. Robotnik y su nuevo aliado, Knuckles.\n",
            "   - **Recepción**: La película también recibió críticas mixtas a positivas y fue bien recibida por los fans de la franquicia.\n",
            "\n",
            "En cuanto a una posible tercera película, no hay información concreta disponible hasta mi última actualización. Si la tercera película se estrenó después de Navidad de 2024, es probable que haya más detalles disponibles en fuentes actualizadas o en los medios de comunicación más recientes.\n",
            "\n",
            "Si tienes alguna otra pregunta o necesitas más información sobre Sonic o cualquier otro tema, no dudes en preguntar.\n",
            "Tú: me puedes recomendar medios para conocer sobre la película?\n"
          ]
        },
        {
          "output_type": "stream",
          "name": "stderr",
          "text": [
            "INFO:werkzeug:127.0.0.1 - - [31/Dec/2024 00:34:50] \"POST /chat HTTP/1.1\" 200 -\n"
          ]
        },
        {
          "name": "stdout",
          "output_type": "stream",
          "text": [
            "Chatbot: ¡Claro! Si estás interesado en conocer más sobre la tercera película de Sonic, aquí tienes algunas recomendaciones de medios y recursos que pueden serte útiles:\n",
            "\n",
            "1. **IMDb (Internet Movie Database)**: Esta es una de las bases de datos más completas sobre películas, series y programas de televisión. Puedes encontrar información detallada sobre la película, incluyendo el reparto, la sinopsis, críticas y más.\n",
            "   - Sitio web: [IMDb](https://www.imdb.com/)\n",
            "\n",
            "2. **Rotten Tomatoes**: Este sitio ofrece críticas y calificaciones tanto de críticos profesionales como de audiencias. Es una excelente manera de obtener una visión general de la recepción de la película.\n",
            "   - Sitio web: [Rotten Tomatoes](https://www.rottentomatoes.com/)\n",
            "\n",
            "3. **Metacritic**: Similar a Rotten Tomatoes, Metacritic agrega críticas de diferentes fuentes y proporciona una puntuación media.\n",
            "   - Sitio web: [Metacritic](https://www.metacritic.com/)\n",
            "\n",
            "4. **YouTube**: Canales de críticos de cine y fanáticos de Sonic pueden ofrecer reseñas detalladas y análisis. Busca términos como \"Sonic the Hedgehog 3 movie review\" para encontrar contenido relevante.\n",
            "\n",
            "5. **Redes Sociales**: Plataformas como Twitter, Facebook e Instagram pueden tener actualizaciones oficiales y reacciones de los fans sobre la película. Sigue las cuentas oficiales de Sonic y los actores principales para obtener la información más reciente.\n",
            "\n",
            "6. **Sitios de Noticias de Entretenimiento**: Publicaciones como Variety, The Hollywood Reporter y Entertainment Weekly pueden tener artículos y entrevistas sobre la película.\n",
            "   - Variety: [Variety](https://variety.com/)\n",
            "   - The Hollywood Reporter: [The Hollywood Reporter](https://www.hollywoodreporter.com/)\n",
            "   - Entertainment Weekly: [Entertainment Weekly](https://ew.com/)\n",
            "\n",
            "7. **Foros y Comunidades**: Sitios como Reddit tienen comunidades dedicadas a Sonic y el cine en general. Puedes encontrar discusiones y análisis detallados de los fans.\n",
            "   - Reddit: [r/SonicTheHedgehog](https://www.reddit.com/r/SonicTheHedgehog/)\n",
            "   - Reddit: [r/movies](https://www.reddit.com/r/movies/)\n",
            "\n",
            "8. **Sitios Oficiales y Redes Sociales de la Película**: La página oficial de la película y sus cuentas de redes sociales pueden tener trailers, detrás de cámaras y otra información relevante.\n",
            "\n",
            "Espero que estas recomendaciones te sean útiles para conocer más sobre la tercera película de Sonic. ¡Disfruta de tu investigación!\n",
            "Tú: salir\n"
          ]
        }
      ]
    }
  ]
}