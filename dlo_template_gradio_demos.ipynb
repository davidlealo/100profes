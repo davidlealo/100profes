{
  "nbformat": 4,
  "nbformat_minor": 0,
  "metadata": {
    "colab": {
      "provenance": [],
      "include_colab_link": true
    },
    "kernelspec": {
      "name": "python3",
      "display_name": "Python 3"
    },
    "language_info": {
      "name": "python"
    }
  },
  "cells": [
    {
      "cell_type": "markdown",
      "metadata": {
        "id": "view-in-github",
        "colab_type": "text"
      },
      "source": [
        "<a href=\"https://colab.research.google.com/github/davidlealo/100profes/blob/master/dlo_template_gradio_demos.ipynb\" target=\"_parent\"><img src=\"https://colab.research.google.com/assets/colab-badge.svg\" alt=\"Open In Colab\"/></a>"
      ]
    },
    {
      "cell_type": "markdown",
      "source": [
        "## Introducción a Gradio"
      ],
      "metadata": {
        "id": "s8CImrBc6ueC"
      }
    },
    {
      "cell_type": "markdown",
      "source": [
        "Gradio ofrece dos API diferentes según el nivel de detalle que se busque:\n",
        "\n",
        "- `gradio.Interface`: API de alto nivel que permite crear demos de ML simplemente proporcionando una lista de entradas y salidas.\n",
        "\n",
        "- `gradio.Blocks`: API de bajo nivel que permite tener un control total sobre los flujos de datos y el diseño de la aplicación. Se pueden crear aplicaciones muy complejas de varios pasos utilizando Blocks (como si fueran bloques de construcción).\n",
        "\n",
        "Comenzaremos utilizando `Interface` y al final mostraremos un ejemplo de `Blocks`."
      ],
      "metadata": {
        "id": "ExMhF5WHB_IY"
      }
    },
    {
      "cell_type": "markdown",
      "source": [
        "## Instalamos Gradio"
      ],
      "metadata": {
        "id": "BSFxN8lAfwOv"
      }
    },
    {
      "cell_type": "code",
      "source": [
        "%%capture\n",
        "!pip install gradio"
      ],
      "metadata": {
        "id": "JFek1nvzH3z4"
      },
      "execution_count": 1,
      "outputs": []
    },
    {
      "cell_type": "markdown",
      "source": [
        "Ejemplo usando una función para saludar que tiene `text` como input y `text` como output."
      ],
      "metadata": {
        "id": "h5EBhuJDgC7X"
      }
    },
    {
      "cell_type": "code",
      "source": [
        "import gradio as gr\n",
        "\n",
        "def greet(name):\n",
        "    return \"Hello \" + name + \"!!\"\n",
        "\n",
        "demo = gr.Interface(fn=greet, inputs=\"text\", outputs=\"text\")\n",
        "\n",
        "demo.launch()"
      ],
      "metadata": {
        "id": "vptt-bcrfrOx",
        "colab": {
          "base_uri": "https://localhost:8080/",
          "height": 646
        },
        "outputId": "b9e0c006-b8b1-464f-a108-7c66bac97fd2"
      },
      "execution_count": 2,
      "outputs": [
        {
          "output_type": "stream",
          "name": "stdout",
          "text": [
            "It looks like you are running Gradio on a hosted Jupyter notebook, which requires `share=True`. Automatically setting `share=True` (you can turn this off by setting `share=False` in `launch()` explicitly).\n",
            "\n",
            "Colab notebook detected. To show errors in colab notebook, set debug=True in launch()\n",
            "* Running on public URL: https://f135166cd8b1959138.gradio.live\n",
            "\n",
            "This share link expires in 1 week. For free permanent hosting and GPU upgrades, run `gradio deploy` from the terminal in the working directory to deploy to Hugging Face Spaces (https://huggingface.co/spaces)\n"
          ]
        },
        {
          "output_type": "display_data",
          "data": {
            "text/plain": [
              "<IPython.core.display.HTML object>"
            ],
            "text/html": [
              "<div><iframe src=\"https://f135166cd8b1959138.gradio.live\" width=\"100%\" height=\"500\" allow=\"autoplay; camera; microphone; clipboard-read; clipboard-write;\" frameborder=\"0\" allowfullscreen></iframe></div>"
            ]
          },
          "metadata": {}
        },
        {
          "output_type": "execute_result",
          "data": {
            "text/plain": []
          },
          "metadata": {},
          "execution_count": 2
        }
      ]
    },
    {
      "cell_type": "code",
      "source": [
        "import gradio as gr\n",
        "import tensorflow as tf\n",
        "import requests\n",
        "import numpy as np\n",
        "\n",
        "# Cargar modelo preentrenado MobileNetV2\n",
        "model = tf.keras.applications.MobileNetV2(weights=\"imagenet\")\n",
        "\n",
        "# Descargar las etiquetas de ImageNet\n",
        "labels_url = \"https://storage.googleapis.com/download.tensorflow.org/data/ImageNetLabels.txt\"\n",
        "response = requests.get(labels_url)\n",
        "labels = response.text.split(\"\\n\")[1:]  # la primera línea es un placeholder \"background\"\n",
        "\n",
        "def classify_image(image):\n",
        "    try:\n",
        "        # Redimensionar y preparar\n",
        "        image = image.resize((224, 224))\n",
        "        img_array = np.asarray(image)\n",
        "        img_array = np.expand_dims(img_array, axis=0)\n",
        "        img_array = tf.keras.applications.mobilenet_v2.preprocess_input(img_array)\n",
        "\n",
        "        # Predicción\n",
        "        preds = model.predict(img_array).flatten()\n",
        "\n",
        "        # Ajustar etiquetas al tamaño de preds\n",
        "        valid_labels = labels[:len(preds)]\n",
        "\n",
        "        confidences = {valid_labels[i]: float(preds[i]) for i in range(len(preds))}\n",
        "        return confidences\n",
        "    except Exception as e:\n",
        "        print(\"ERROR en classify_image:\", e)\n",
        "        return {\"error\": str(e)}\n",
        "\n",
        "\n",
        "# Interfaz Gradio\n",
        "demo = gr.Interface(\n",
        "    fn=classify_image,\n",
        "    inputs=gr.Image(type=\"pil\"),\n",
        "    outputs=gr.Label(num_top_classes=3),\n",
        "    title=\"Clasificador de Imágenes con MobileNetV2\",\n",
        "    description=\"Sube una imagen y el modelo MobileNetV2 preentrenado en ImageNet la clasificará.\"\n",
        ")\n",
        "\n",
        "if __name__ == \"__main__\":\n",
        "    demo.launch(debug=True)\n"
      ],
      "metadata": {
        "colab": {
          "base_uri": "https://localhost:8080/",
          "height": 698
        },
        "id": "TsfTLMJbsu9c",
        "outputId": "42683b9d-df5a-473f-ab0d-4912d8a74299"
      },
      "execution_count": 9,
      "outputs": [
        {
          "output_type": "stream",
          "name": "stdout",
          "text": [
            "It looks like you are running Gradio on a hosted Jupyter notebook, which requires `share=True`. Automatically setting `share=True` (you can turn this off by setting `share=False` in `launch()` explicitly).\n",
            "\n",
            "Colab notebook detected. This cell will run indefinitely so that you can see errors and logs. To turn off, set debug=False in launch().\n",
            "* Running on public URL: https://8befa1311f97d7c31c.gradio.live\n",
            "\n",
            "This share link expires in 1 week. For free permanent hosting and GPU upgrades, run `gradio deploy` from the terminal in the working directory to deploy to Hugging Face Spaces (https://huggingface.co/spaces)\n"
          ]
        },
        {
          "output_type": "display_data",
          "data": {
            "text/plain": [
              "<IPython.core.display.HTML object>"
            ],
            "text/html": [
              "<div><iframe src=\"https://8befa1311f97d7c31c.gradio.live\" width=\"100%\" height=\"500\" allow=\"autoplay; camera; microphone; clipboard-read; clipboard-write;\" frameborder=\"0\" allowfullscreen></iframe></div>"
            ]
          },
          "metadata": {}
        },
        {
          "output_type": "stream",
          "name": "stdout",
          "text": [
            "\u001b[1m1/1\u001b[0m \u001b[32m━━━━━━━━━━━━━━━━━━━━\u001b[0m\u001b[37m\u001b[0m \u001b[1m1s\u001b[0m 1s/step\n",
            "Keyboard interruption in main thread... closing server.\n",
            "Killing tunnel 127.0.0.1:7862 <> https://8befa1311f97d7c31c.gradio.live\n"
          ]
        }
      ]
    },
    {
      "cell_type": "markdown",
      "source": [
        "La clase de `gr.Interface` es una forma fácil de crear demos que pueden ser desde una calculadora hasta una aplicación para reconocimiento de voz.\n",
        "\n",
        "Se inicializa con tres parámetros necesarios:\n",
        "\n",
        "\n",
        "*   `fn`: la función.\n",
        "\n",
        "*   `inputs`: qué componente(s) usar para los inputs de la función, por ejemplo, \"texto\", \"imagen\" o \"audio\"\n",
        "* `outputs`: qué componente(s) usar para los outputs de la función, por ejemplo, \"texto\", \"imagen\" o \"etiqueta\"\n",
        "\n",
        "\n",
        "Gradio incluye más de 20 componentes diferentes, la mayoría de los cuales se pueden utilizar como inputs y outputs. En la documentación está la [lista completa](https://gradio.app/docs/#components)."
      ],
      "metadata": {
        "id": "wkJIvlmtgkfR"
      }
    },
    {
      "cell_type": "markdown",
      "source": [
        "Ejemplo 2:"
      ],
      "metadata": {
        "id": "EEgezutgiZ-4"
      }
    },
    {
      "cell_type": "code",
      "source": [],
      "metadata": {
        "id": "9NGKuXXfgLWH"
      },
      "execution_count": null,
      "outputs": []
    },
    {
      "cell_type": "markdown",
      "source": [
        "## Demos para clasificación de imágenes"
      ],
      "metadata": {
        "id": "kwLrBHxy62Cf"
      }
    },
    {
      "cell_type": "markdown",
      "source": [
        "**Ejemplo 1:** demo con modelo cargado de las aplicaciones de TensorFlow."
      ],
      "metadata": {
        "id": "0XzHJlgVjjWY"
      }
    },
    {
      "cell_type": "code",
      "source": [],
      "metadata": {
        "id": "4xhcXAn8j4Lj"
      },
      "execution_count": null,
      "outputs": []
    },
    {
      "cell_type": "code",
      "source": [
        "import requests\n",
        "\n",
        "# Obteniendo las labels de \"https://git.io/JJkYN\"\n"
      ],
      "metadata": {
        "id": "KnIwuuO1kfU-"
      },
      "execution_count": null,
      "outputs": []
    },
    {
      "cell_type": "code",
      "source": [],
      "metadata": {
        "id": "-eK8z_CHUOlJ"
      },
      "execution_count": null,
      "outputs": []
    },
    {
      "cell_type": "code",
      "source": [],
      "metadata": {
        "id": "osfHOsfYUUiI"
      },
      "execution_count": null,
      "outputs": []
    },
    {
      "cell_type": "markdown",
      "source": [
        "**Ejemplo 2**: demo cargando un modelo del Hub de Hugging Face."
      ],
      "metadata": {
        "id": "tBZhxGS1nv7a"
      }
    },
    {
      "cell_type": "code",
      "source": [],
      "metadata": {
        "id": "XILy1l6dcO7S"
      },
      "execution_count": null,
      "outputs": []
    },
    {
      "cell_type": "markdown",
      "source": [
        "## Demo de transcripción de audio a texto"
      ],
      "metadata": {
        "id": "gs4GK4t17dK5"
      }
    },
    {
      "cell_type": "markdown",
      "source": [
        "Usamos `pipeline` para cargar un modelo para automatic speech recognition en español del Hub de Hugging Face.\n",
        "\n",
        "El demo transcribe automáticamente de lo que grabamos."
      ],
      "metadata": {
        "id": "yx57LeGT8BGP"
      }
    },
    {
      "cell_type": "code",
      "source": [],
      "metadata": {
        "id": "7sOjfBWI541e"
      },
      "execution_count": null,
      "outputs": []
    },
    {
      "cell_type": "code",
      "source": [],
      "metadata": {
        "id": "G7bX5MM7ypJJ"
      },
      "execution_count": null,
      "outputs": []
    },
    {
      "cell_type": "code",
      "source": [],
      "metadata": {
        "id": "ssCh6RgW1Kxq"
      },
      "execution_count": null,
      "outputs": []
    },
    {
      "cell_type": "markdown",
      "source": [
        "## Blocks"
      ],
      "metadata": {
        "id": "LnTOzNIQ_R2-"
      }
    },
    {
      "cell_type": "markdown",
      "source": [
        "Creamos un demo que recibe dos modelos. Puede transcribir una voz y también puede clasificar el sentimiento de un texto."
      ],
      "metadata": {
        "id": "u4JSbah8BjOZ"
      }
    },
    {
      "cell_type": "code",
      "source": [],
      "metadata": {
        "id": "Rmn5K-zG_S_8"
      },
      "execution_count": null,
      "outputs": []
    },
    {
      "cell_type": "code",
      "source": [],
      "metadata": {
        "id": "XMsS8NZKCwm3"
      },
      "execution_count": null,
      "outputs": []
    },
    {
      "cell_type": "code",
      "source": [],
      "metadata": {
        "id": "CFGG0R_CFQkd"
      },
      "execution_count": null,
      "outputs": []
    },
    {
      "cell_type": "code",
      "source": [],
      "metadata": {
        "id": "e2xBXVDAF-5-"
      },
      "execution_count": null,
      "outputs": []
    },
    {
      "cell_type": "markdown",
      "source": [
        "Hagamos un aplicación de blocks un poco más interesante."
      ],
      "metadata": {
        "id": "zqK3a-7ygjIi"
      }
    },
    {
      "cell_type": "code",
      "source": [
        "\n"
      ],
      "metadata": {
        "id": "CHuwCu2m0gmC"
      },
      "execution_count": null,
      "outputs": []
    }
  ]
}