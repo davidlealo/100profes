{
  "nbformat": 4,
  "nbformat_minor": 0,
  "metadata": {
    "colab": {
      "provenance": [],
      "authorship_tag": "ABX9TyNDgUtTGoxEN5COp3951UAv",
      "include_colab_link": true
    },
    "kernelspec": {
      "name": "python3",
      "display_name": "Python 3"
    },
    "language_info": {
      "name": "python"
    }
  },
  "cells": [
    {
      "cell_type": "markdown",
      "metadata": {
        "id": "view-in-github",
        "colab_type": "text"
      },
      "source": [
        "<a href=\"https://colab.research.google.com/github/davidlealo/100profes/blob/master/Capturar_audio_del_microfono.ipynb\" target=\"_parent\"><img src=\"https://colab.research.google.com/assets/colab-badge.svg\" alt=\"Open In Colab\"/></a>"
      ]
    },
    {
      "cell_type": "code",
      "source": [
        "from IPython.display import Javascript, display\n",
        "\n",
        "def create_buttons(filename=\"grabacion.wav\"):\n",
        "    # Escapar el nombre del archivo en caso de caracteres especiales\n",
        "    filename_escaped = filename.replace(\"'\", \"\\\\'\").replace('\"', '\\\\\"')\n",
        "\n",
        "    display(Javascript(f\"\"\"\n",
        "        // Crear los elementos de la interfaz\n",
        "        var startButton = document.createElement('button');\n",
        "        startButton.innerHTML = 'Comenzar Grabación';\n",
        "        startButton.style.marginRight = '10px';\n",
        "\n",
        "        var stopButton = document.createElement('button');\n",
        "        stopButton.innerHTML = 'Detener Grabación';\n",
        "        stopButton.disabled = true;\n",
        "\n",
        "        var statusText = document.createElement('p');\n",
        "        statusText.innerHTML = '<strong>Status:</strong> Listo para grabar';\n",
        "\n",
        "        document.body.appendChild(startButton);\n",
        "        document.body.appendChild(stopButton);\n",
        "        document.body.appendChild(statusText);\n",
        "\n",
        "        var audioChunks = [];\n",
        "        var mediaRecorder;\n",
        "\n",
        "        startButton.onclick = async function() {{\n",
        "            // Solicitar acceso al micrófono\n",
        "            const stream = await navigator.mediaDevices.getUserMedia({{ audio: true }});\n",
        "            mediaRecorder = new MediaRecorder(stream);\n",
        "\n",
        "            mediaRecorder.ondataavailable = function(event) {{\n",
        "                audioChunks.push(event.data);\n",
        "            }};\n",
        "\n",
        "            mediaRecorder.onstop = function() {{\n",
        "                // Crear el archivo de audio y el enlace de descarga\n",
        "                const audioBlob = new Blob(audioChunks, {{ type: 'audio/wav' }});\n",
        "                const audioUrl = URL.createObjectURL(audioBlob);\n",
        "                const downloadLink = document.createElement('a');\n",
        "                downloadLink.href = audioUrl;\n",
        "                downloadLink.download = '{filename_escaped}';\n",
        "                downloadLink.click();\n",
        "\n",
        "                audioChunks = [];\n",
        "            }};\n",
        "\n",
        "            mediaRecorder.start();\n",
        "            statusText.innerHTML = '<strong>Status:</strong> Grabando...';\n",
        "            startButton.disabled = true;\n",
        "            stopButton.disabled = false;\n",
        "        }};\n",
        "\n",
        "        stopButton.onclick = function() {{\n",
        "            mediaRecorder.stop();\n",
        "            statusText.innerHTML = '<strong>Status:</strong> Grabación detenida.';\n",
        "            startButton.disabled = false;\n",
        "            stopButton.disabled = true;\n",
        "        }};\n",
        "    \"\"\"))\n",
        "\n",
        "# Llama a la función para crear los botones\n",
        "create_buttons(\"conversacion.wav\")\n"
      ],
      "metadata": {
        "colab": {
          "base_uri": "https://localhost:8080/",
          "height": 68
        },
        "id": "vDaLX7iY1ooH",
        "outputId": "b36e02e9-c041-4035-add6-ed8871373a63"
      },
      "execution_count": 4,
      "outputs": [
        {
          "output_type": "display_data",
          "data": {
            "text/plain": [
              "<IPython.core.display.Javascript object>"
            ],
            "application/javascript": [
              "\n",
              "        // Crear los elementos de la interfaz\n",
              "        var startButton = document.createElement('button');\n",
              "        startButton.innerHTML = 'Comenzar Grabación';\n",
              "        startButton.style.marginRight = '10px';\n",
              "        \n",
              "        var stopButton = document.createElement('button');\n",
              "        stopButton.innerHTML = 'Detener Grabación';\n",
              "        stopButton.disabled = true;\n",
              "        \n",
              "        var statusText = document.createElement('p');\n",
              "        statusText.innerHTML = '<strong>Status:</strong> Listo para grabar';\n",
              "        \n",
              "        document.body.appendChild(startButton);\n",
              "        document.body.appendChild(stopButton);\n",
              "        document.body.appendChild(statusText);\n",
              "        \n",
              "        var audioChunks = [];\n",
              "        var mediaRecorder;\n",
              "        \n",
              "        startButton.onclick = async function() {\n",
              "            // Solicitar acceso al micrófono\n",
              "            const stream = await navigator.mediaDevices.getUserMedia({ audio: true });\n",
              "            mediaRecorder = new MediaRecorder(stream);\n",
              "            \n",
              "            mediaRecorder.ondataavailable = function(event) {\n",
              "                audioChunks.push(event.data);\n",
              "            };\n",
              "            \n",
              "            mediaRecorder.onstop = function() {\n",
              "                // Crear el archivo de audio y el enlace de descarga\n",
              "                const audioBlob = new Blob(audioChunks, { type: 'audio/wav' });\n",
              "                const audioUrl = URL.createObjectURL(audioBlob);\n",
              "                const downloadLink = document.createElement('a');\n",
              "                downloadLink.href = audioUrl;\n",
              "                downloadLink.download = 'conversacion.wav';\n",
              "                downloadLink.click();\n",
              "                \n",
              "                audioChunks = [];\n",
              "            };\n",
              "            \n",
              "            mediaRecorder.start();\n",
              "            statusText.innerHTML = '<strong>Status:</strong> Grabando...';\n",
              "            startButton.disabled = true;\n",
              "            stopButton.disabled = false;\n",
              "        };\n",
              "        \n",
              "        stopButton.onclick = function() {\n",
              "            mediaRecorder.stop();\n",
              "            statusText.innerHTML = '<strong>Status:</strong> Grabación detenida.';\n",
              "            startButton.disabled = false;\n",
              "            stopButton.disabled = true;\n",
              "        };\n",
              "    "
            ]
          },
          "metadata": {}
        }
      ]
    }
  ]
}