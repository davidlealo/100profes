{
  "nbformat": 4,
  "nbformat_minor": 0,
  "metadata": {
    "colab": {
      "provenance": [],
      "authorship_tag": "ABX9TyOADYacG1LPellf8WdKNWr4",
      "include_colab_link": true
    },
    "kernelspec": {
      "name": "python3",
      "display_name": "Python 3"
    },
    "language_info": {
      "name": "python"
    }
  },
  "cells": [
    {
      "cell_type": "markdown",
      "metadata": {
        "id": "view-in-github",
        "colab_type": "text"
      },
      "source": [
        "<a href=\"https://colab.research.google.com/github/davidlealo/100profes/blob/master/textos_largos_anthropic_api.ipynb\" target=\"_parent\"><img src=\"https://colab.research.google.com/assets/colab-badge.svg\" alt=\"Open In Colab\"/></a>"
      ]
    },
    {
      "cell_type": "markdown",
      "source": [
        "## Textos largos Anthropic API"
      ],
      "metadata": {
        "id": "px_Kze-W36T9"
      }
    },
    {
      "cell_type": "code",
      "source": [
        "# Instalación de dependencias\n",
        "!pip install anthropic PyMuPDF python-docx epub_meta\n",
        "\n"
      ],
      "metadata": {
        "colab": {
          "base_uri": "https://localhost:8080/"
        },
        "id": "rojG6X4-4Hle",
        "outputId": "94ce4da1-6c0e-4ddb-a1f4-37287397614f"
      },
      "execution_count": 1,
      "outputs": [
        {
          "output_type": "stream",
          "name": "stdout",
          "text": [
            "Collecting anthropic\n",
            "  Downloading anthropic-0.42.0-py3-none-any.whl.metadata (23 kB)\n",
            "Collecting PyMuPDF\n",
            "  Downloading pymupdf-1.25.1-cp39-abi3-manylinux2014_x86_64.manylinux_2_17_x86_64.whl.metadata (3.4 kB)\n",
            "Collecting python-docx\n",
            "  Downloading python_docx-1.1.2-py3-none-any.whl.metadata (2.0 kB)\n",
            "Collecting epub_meta\n",
            "  Downloading epub_meta-0.0.7.tar.gz (7.4 kB)\n",
            "  Preparing metadata (setup.py) ... \u001b[?25l\u001b[?25hdone\n",
            "Requirement already satisfied: anyio<5,>=3.5.0 in /usr/local/lib/python3.10/dist-packages (from anthropic) (3.7.1)\n",
            "Requirement already satisfied: distro<2,>=1.7.0 in /usr/local/lib/python3.10/dist-packages (from anthropic) (1.9.0)\n",
            "Requirement already satisfied: httpx<1,>=0.23.0 in /usr/local/lib/python3.10/dist-packages (from anthropic) (0.28.1)\n",
            "Requirement already satisfied: jiter<1,>=0.4.0 in /usr/local/lib/python3.10/dist-packages (from anthropic) (0.8.2)\n",
            "Requirement already satisfied: pydantic<3,>=1.9.0 in /usr/local/lib/python3.10/dist-packages (from anthropic) (2.10.3)\n",
            "Requirement already satisfied: sniffio in /usr/local/lib/python3.10/dist-packages (from anthropic) (1.3.1)\n",
            "Requirement already satisfied: typing-extensions<5,>=4.10 in /usr/local/lib/python3.10/dist-packages (from anthropic) (4.12.2)\n",
            "Requirement already satisfied: lxml>=3.1.0 in /usr/local/lib/python3.10/dist-packages (from python-docx) (5.3.0)\n",
            "Requirement already satisfied: idna>=2.8 in /usr/local/lib/python3.10/dist-packages (from anyio<5,>=3.5.0->anthropic) (3.10)\n",
            "Requirement already satisfied: exceptiongroup in /usr/local/lib/python3.10/dist-packages (from anyio<5,>=3.5.0->anthropic) (1.2.2)\n",
            "Requirement already satisfied: certifi in /usr/local/lib/python3.10/dist-packages (from httpx<1,>=0.23.0->anthropic) (2024.12.14)\n",
            "Requirement already satisfied: httpcore==1.* in /usr/local/lib/python3.10/dist-packages (from httpx<1,>=0.23.0->anthropic) (1.0.7)\n",
            "Requirement already satisfied: h11<0.15,>=0.13 in /usr/local/lib/python3.10/dist-packages (from httpcore==1.*->httpx<1,>=0.23.0->anthropic) (0.14.0)\n",
            "Requirement already satisfied: annotated-types>=0.6.0 in /usr/local/lib/python3.10/dist-packages (from pydantic<3,>=1.9.0->anthropic) (0.7.0)\n",
            "Requirement already satisfied: pydantic-core==2.27.1 in /usr/local/lib/python3.10/dist-packages (from pydantic<3,>=1.9.0->anthropic) (2.27.1)\n",
            "Downloading anthropic-0.42.0-py3-none-any.whl (203 kB)\n",
            "\u001b[2K   \u001b[90m━━━━━━━━━━━━━━━━━━━━━━━━━━━━━━━━━━━━━━━━\u001b[0m \u001b[32m203.4/203.4 kB\u001b[0m \u001b[31m11.2 MB/s\u001b[0m eta \u001b[36m0:00:00\u001b[0m\n",
            "\u001b[?25hDownloading pymupdf-1.25.1-cp39-abi3-manylinux2014_x86_64.manylinux_2_17_x86_64.whl (20.0 MB)\n",
            "\u001b[2K   \u001b[90m━━━━━━━━━━━━━━━━━━━━━━━━━━━━━━━━━━━━━━━━\u001b[0m \u001b[32m20.0/20.0 MB\u001b[0m \u001b[31m76.4 MB/s\u001b[0m eta \u001b[36m0:00:00\u001b[0m\n",
            "\u001b[?25hDownloading python_docx-1.1.2-py3-none-any.whl (244 kB)\n",
            "\u001b[2K   \u001b[90m━━━━━━━━━━━━━━━━━━━━━━━━━━━━━━━━━━━━━━━━\u001b[0m \u001b[32m244.3/244.3 kB\u001b[0m \u001b[31m16.3 MB/s\u001b[0m eta \u001b[36m0:00:00\u001b[0m\n",
            "\u001b[?25hBuilding wheels for collected packages: epub_meta\n",
            "  Building wheel for epub_meta (setup.py) ... \u001b[?25l\u001b[?25hdone\n",
            "  Created wheel for epub_meta: filename=epub_meta-0.0.7-py3-none-any.whl size=8465 sha256=1b035ed1b117ef7fffd24c35e93b3960e62169ab472d079e69a140323ecc4b04\n",
            "  Stored in directory: /root/.cache/pip/wheels/27/76/98/9596d98d40b8677a13a66429b086fcd9dabb52814cf7130a63\n",
            "Successfully built epub_meta\n",
            "Installing collected packages: epub_meta, python-docx, PyMuPDF, anthropic\n",
            "Successfully installed PyMuPDF-1.25.1 anthropic-0.42.0 epub_meta-0.0.7 python-docx-1.1.2\n"
          ]
        }
      ]
    },
    {
      "cell_type": "code",
      "execution_count": null,
      "metadata": {
        "id": "tMx8ONQw33LV"
      },
      "outputs": [],
      "source": [
        "# Importar librerías\n",
        "from google.colab import files\n",
        "from anthropic import Anthropic\n",
        "import fitz\n",
        "import docx\n",
        "import epub_meta\n",
        "import os\n",
        "from typing import List, Dict\n",
        "\n",
        "class DocumentReader:\n",
        "    def __init__(self, api_key: str):\n",
        "        self.client = Anthropic(api_key=api_key)\n",
        "\n",
        "    def read_pdf(self, filepath: str) -> str:\n",
        "        text = \"\"\n",
        "        with fitz.open(filepath) as doc:\n",
        "            for page in doc:\n",
        "                text += page.get_text()\n",
        "        return text\n",
        "\n",
        "    def read_docx(self, filepath: str) -> str:\n",
        "        doc = docx.Document(filepath)\n",
        "        return \"\\n\".join([paragraph.text for paragraph in doc.paragraphs])\n",
        "\n",
        "    def read_txt(self, filepath: str) -> str:\n",
        "        with open(filepath, 'r', encoding='utf-8') as file:\n",
        "            return file.read()\n",
        "\n",
        "    def read_epub(self, filepath: str) -> str:\n",
        "        metadata = epub_meta.get_epub_metadata(filepath, read_content=True)\n",
        "        return metadata['content']\n",
        "\n",
        "    def process_text(self, text: str, max_chunk_size: int = 4000) -> List[str]:\n",
        "        words = text.split()\n",
        "        chunks = []\n",
        "        current_chunk = []\n",
        "        current_length = 0\n",
        "\n",
        "        for word in words:\n",
        "            if current_length + len(word) + 1 > max_chunk_size:\n",
        "                chunks.append(' '.join(current_chunk))\n",
        "                current_chunk = [word]\n",
        "                current_length = len(word)\n",
        "            else:\n",
        "                current_chunk.append(word)\n",
        "                current_length += len(word) + 1\n",
        "\n",
        "        if current_chunk:\n",
        "            chunks.append(' '.join(current_chunk))\n",
        "\n",
        "        return chunks\n",
        "\n",
        "    def analyze_document(self, filepath: str) -> List[Dict]:\n",
        "        _, ext = os.path.splitext(filepath)\n",
        "        ext = ext.lower()\n",
        "\n",
        "        if ext == '.pdf':\n",
        "            text = self.read_pdf(filepath)\n",
        "        elif ext == '.docx':\n",
        "            text = self.read_docx(filepath)\n",
        "        elif ext == '.txt':\n",
        "            text = self.read_txt(filepath)\n",
        "        elif ext == '.epub':\n",
        "            text = self.read_epub(filepath)\n",
        "        else:\n",
        "            raise ValueError(f\"Formato no soportado: {ext}\")\n",
        "\n",
        "        chunks = self.process_text(text)\n",
        "        responses = []\n",
        "\n",
        "        for chunk in chunks:\n",
        "            message = self.client.messages.create(\n",
        "                model=\"claude-3-sonnet-20240229\",\n",
        "                max_tokens=1024,\n",
        "                messages=[{\n",
        "                    \"role\": \"user\",\n",
        "                    \"content\": f\"Analiza el siguiente texto y proporciona un resumen:\\n\\n{chunk}\"\n",
        "                }]\n",
        "            )\n",
        "            responses.append({\n",
        "                \"chunk\": chunk,\n",
        "                \"analysis\": message.content\n",
        "            })\n",
        "\n",
        "        return responses\n",
        "\n",
        "# Subir archivo\n",
        "uploaded = files.upload()\n",
        "filename = list(uploaded.keys())[0]\n",
        "\n",
        "# Usar el DocumentReader\n",
        "ANTHROPIC_API_KEY = \"tu-api-key\"  # Reemplaza con tu API key\n",
        "reader = DocumentReader(ANTHROPIC_API_KEY)\n",
        "results = reader.analyze_document(filename)\n",
        "\n",
        "# Mostrar resultados\n",
        "for i, result in enumerate(results, 1):\n",
        "    print(f\"\\nAnálisis #{i}:\")\n",
        "    print(result[\"analysis\"])\n",
        "    print(\"-\" * 50)"
      ]
    }
  ]
}