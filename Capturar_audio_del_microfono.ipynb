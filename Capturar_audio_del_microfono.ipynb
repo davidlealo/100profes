{
  "nbformat": 4,
  "nbformat_minor": 0,
  "metadata": {
    "colab": {
      "provenance": [],
      "authorship_tag": "ABX9TyNKAxEwmM+iSX+ByOo6tSKw",
      "include_colab_link": true
    },
    "kernelspec": {
      "name": "python3",
      "display_name": "Python 3"
    },
    "language_info": {
      "name": "python"
    }
  },
  "cells": [
    {
      "cell_type": "markdown",
      "metadata": {
        "id": "view-in-github",
        "colab_type": "text"
      },
      "source": [
        "<a href=\"https://colab.research.google.com/github/davidlealo/100profes/blob/master/Capturar_audio_del_microfono.ipynb\" target=\"_parent\"><img src=\"https://colab.research.google.com/assets/colab-badge.svg\" alt=\"Open In Colab\"/></a>"
      ]
    },
    {
      "cell_type": "code",
      "source": [
        "from IPython.display import Javascript, display\n",
        "\n",
        "def create_buttons(filename=\"grabacion.wav\"):\n",
        "    # Escapar el nombre del archivo en caso de caracteres especiales\n",
        "    filename_escaped = filename.replace(\"'\", \"\\\\'\").replace('\"', '\\\\\"')\n",
        "\n",
        "    display(Javascript(f\"\"\"\n",
        "        // Crear los elementos de la interfaz\n",
        "        var startButton = document.createElement('button');\n",
        "        startButton.innerHTML = 'Comenzar Grabación';\n",
        "        startButton.style.marginRight = '10px';\n",
        "\n",
        "        var stopButton = document.createElement('button');\n",
        "        stopButton.innerHTML = 'Detener Grabación';\n",
        "        stopButton.disabled = true;\n",
        "\n",
        "        var statusText = document.createElement('p');\n",
        "        statusText.innerHTML = '<strong>Status:</strong> Listo para grabar';\n",
        "\n",
        "        document.body.appendChild(startButton);\n",
        "        document.body.appendChild(stopButton);\n",
        "        document.body.appendChild(statusText);\n",
        "\n",
        "        var audioChunks = [];\n",
        "        var mediaRecorder;\n",
        "\n",
        "        startButton.onclick = async function() {{\n",
        "            // Solicitar acceso al micrófono\n",
        "            const stream = await navigator.mediaDevices.getUserMedia({{ audio: true }});\n",
        "            mediaRecorder = new MediaRecorder(stream);\n",
        "\n",
        "            mediaRecorder.ondataavailable = function(event) {{\n",
        "                audioChunks.push(event.data);\n",
        "            }};\n",
        "\n",
        "            mediaRecorder.onstop = function() {{\n",
        "                // Crear el archivo de audio y el enlace de descarga\n",
        "                const audioBlob = new Blob(audioChunks, {{ type: 'audio/wav' }});\n",
        "                const audioUrl = URL.createObjectURL(audioBlob);\n",
        "                const downloadLink = document.createElement('a');\n",
        "                downloadLink.href = audioUrl;\n",
        "                downloadLink.download = '{filename_escaped}';\n",
        "                downloadLink.click();\n",
        "\n",
        "                audioChunks = [];\n",
        "            }};\n",
        "\n",
        "            mediaRecorder.start();\n",
        "            statusText.innerHTML = '<strong>Status:</strong> Grabando...';\n",
        "            startButton.disabled = true;\n",
        "            stopButton.disabled = false;\n",
        "        }};\n",
        "\n",
        "        stopButton.onclick = function() {{\n",
        "            mediaRecorder.stop();\n",
        "            statusText.innerHTML = '<strong>Status:</strong> Grabación detenida.';\n",
        "            startButton.disabled = false;\n",
        "            stopButton.disabled = true;\n",
        "        }};\n",
        "    \"\"\"))\n",
        "\n",
        "# Llama a la función para crear los botones\n",
        "create_buttons(\"conversacion.wav\")\n"
      ],
      "metadata": {
        "colab": {
          "base_uri": "https://localhost:8080/",
          "height": 68
        },
        "id": "vDaLX7iY1ooH",
        "outputId": "b36e02e9-c041-4035-add6-ed8871373a63"
      },
      "execution_count": 4,
      "outputs": [
        {
          "output_type": "display_data",
          "data": {
            "text/plain": [
              "<IPython.core.display.Javascript object>"
            ],
            "application/javascript": [
              "\n",
              "        // Crear los elementos de la interfaz\n",
              "        var startButton = document.createElement('button');\n",
              "        startButton.innerHTML = 'Comenzar Grabación';\n",
              "        startButton.style.marginRight = '10px';\n",
              "        \n",
              "        var stopButton = document.createElement('button');\n",
              "        stopButton.innerHTML = 'Detener Grabación';\n",
              "        stopButton.disabled = true;\n",
              "        \n",
              "        var statusText = document.createElement('p');\n",
              "        statusText.innerHTML = '<strong>Status:</strong> Listo para grabar';\n",
              "        \n",
              "        document.body.appendChild(startButton);\n",
              "        document.body.appendChild(stopButton);\n",
              "        document.body.appendChild(statusText);\n",
              "        \n",
              "        var audioChunks = [];\n",
              "        var mediaRecorder;\n",
              "        \n",
              "        startButton.onclick = async function() {\n",
              "            // Solicitar acceso al micrófono\n",
              "            const stream = await navigator.mediaDevices.getUserMedia({ audio: true });\n",
              "            mediaRecorder = new MediaRecorder(stream);\n",
              "            \n",
              "            mediaRecorder.ondataavailable = function(event) {\n",
              "                audioChunks.push(event.data);\n",
              "            };\n",
              "            \n",
              "            mediaRecorder.onstop = function() {\n",
              "                // Crear el archivo de audio y el enlace de descarga\n",
              "                const audioBlob = new Blob(audioChunks, { type: 'audio/wav' });\n",
              "                const audioUrl = URL.createObjectURL(audioBlob);\n",
              "                const downloadLink = document.createElement('a');\n",
              "                downloadLink.href = audioUrl;\n",
              "                downloadLink.download = 'conversacion.wav';\n",
              "                downloadLink.click();\n",
              "                \n",
              "                audioChunks = [];\n",
              "            };\n",
              "            \n",
              "            mediaRecorder.start();\n",
              "            statusText.innerHTML = '<strong>Status:</strong> Grabando...';\n",
              "            startButton.disabled = true;\n",
              "            stopButton.disabled = false;\n",
              "        };\n",
              "        \n",
              "        stopButton.onclick = function() {\n",
              "            mediaRecorder.stop();\n",
              "            statusText.innerHTML = '<strong>Status:</strong> Grabación detenida.';\n",
              "            startButton.disabled = false;\n",
              "            stopButton.disabled = true;\n",
              "        };\n",
              "    "
            ]
          },
          "metadata": {}
        }
      ]
    },
    {
      "cell_type": "code",
      "source": [
        "!pip install pydub speechrecognition"
      ],
      "metadata": {
        "colab": {
          "base_uri": "https://localhost:8080/"
        },
        "id": "ju9-rWiU3YJW",
        "outputId": "5519c94c-e15c-40f1-bf49-00ff6ff4b7c0"
      },
      "execution_count": 6,
      "outputs": [
        {
          "output_type": "stream",
          "name": "stdout",
          "text": [
            "Collecting pydub\n",
            "  Downloading pydub-0.25.1-py2.py3-none-any.whl.metadata (1.4 kB)\n",
            "Collecting speechrecognition\n",
            "  Downloading SpeechRecognition-3.11.0-py2.py3-none-any.whl.metadata (28 kB)\n",
            "Requirement already satisfied: requests>=2.26.0 in /usr/local/lib/python3.10/dist-packages (from speechrecognition) (2.32.3)\n",
            "Requirement already satisfied: typing-extensions in /usr/local/lib/python3.10/dist-packages (from speechrecognition) (4.12.2)\n",
            "Requirement already satisfied: charset-normalizer<4,>=2 in /usr/local/lib/python3.10/dist-packages (from requests>=2.26.0->speechrecognition) (3.4.0)\n",
            "Requirement already satisfied: idna<4,>=2.5 in /usr/local/lib/python3.10/dist-packages (from requests>=2.26.0->speechrecognition) (3.10)\n",
            "Requirement already satisfied: urllib3<3,>=1.21.1 in /usr/local/lib/python3.10/dist-packages (from requests>=2.26.0->speechrecognition) (2.2.3)\n",
            "Requirement already satisfied: certifi>=2017.4.17 in /usr/local/lib/python3.10/dist-packages (from requests>=2.26.0->speechrecognition) (2024.8.30)\n",
            "Downloading pydub-0.25.1-py2.py3-none-any.whl (32 kB)\n",
            "Downloading SpeechRecognition-3.11.0-py2.py3-none-any.whl (32.8 MB)\n",
            "\u001b[2K   \u001b[90m━━━━━━━━━━━━━━━━━━━━━━━━━━━━━━━━━━━━━━━━\u001b[0m \u001b[32m32.8/32.8 MB\u001b[0m \u001b[31m31.7 MB/s\u001b[0m eta \u001b[36m0:00:00\u001b[0m\n",
            "\u001b[?25hInstalling collected packages: pydub, speechrecognition\n",
            "Successfully installed pydub-0.25.1 speechrecognition-3.11.0\n"
          ]
        }
      ]
    },
    {
      "cell_type": "code",
      "source": [
        "from IPython.display import Javascript, display\n",
        "from google.colab import files\n",
        "import speech_recognition as sr\n",
        "from pydub import AudioSegment\n",
        "\n",
        "# Crear el botón de carga usando JavaScript\n",
        "def upload_audio_button():\n",
        "    display(Javascript('''\n",
        "        async function uploadAudio() {\n",
        "            // Crear un botón en la interfaz\n",
        "            const fileInput = document.createElement('input');\n",
        "            fileInput.type = 'file';\n",
        "            fileInput.accept = '.mp3';\n",
        "            fileInput.onchange = async () => {\n",
        "                // Obtener el archivo seleccionado\n",
        "                const file = fileInput.files[0];\n",
        "\n",
        "                // Subir el archivo a Colab\n",
        "                const data = new FormData();\n",
        "                data.append('file', file);\n",
        "\n",
        "                // Llamada a la API de Colab para cargar el archivo\n",
        "                const response = await fetch('/upload', { method: 'POST', body: data });\n",
        "                if (response.ok) {\n",
        "                    google.colab.output.resume();\n",
        "                    console.log('Archivo subido con éxito:', file.name);\n",
        "                } else {\n",
        "                    console.error('Error al subir el archivo.');\n",
        "                }\n",
        "            };\n",
        "\n",
        "            fileInput.click();\n",
        "        }\n",
        "\n",
        "        // Crear y mostrar el botón\n",
        "        const button = document.createElement('button');\n",
        "        button.innerText = 'Subir y procesar archivo de audio';\n",
        "        button.onclick = uploadAudio;\n",
        "        document.body.appendChild(button);\n",
        "    '''))\n",
        "\n",
        "# Llama a la función para mostrar el botón\n",
        "upload_audio_button()\n"
      ],
      "metadata": {
        "colab": {
          "base_uri": "https://localhost:8080/",
          "height": 39
        },
        "id": "H2asL4E63Q9_",
        "outputId": "ace020b0-994c-41d0-fe47-b4dc7471571f"
      },
      "execution_count": 7,
      "outputs": [
        {
          "output_type": "display_data",
          "data": {
            "text/plain": [
              "<IPython.core.display.Javascript object>"
            ],
            "application/javascript": [
              "\n",
              "        async function uploadAudio() {\n",
              "            // Crear un botón en la interfaz\n",
              "            const fileInput = document.createElement('input');\n",
              "            fileInput.type = 'file';\n",
              "            fileInput.accept = '.mp3';\n",
              "            fileInput.onchange = async () => {\n",
              "                // Obtener el archivo seleccionado\n",
              "                const file = fileInput.files[0];\n",
              "                \n",
              "                // Subir el archivo a Colab\n",
              "                const data = new FormData();\n",
              "                data.append('file', file);\n",
              "                \n",
              "                // Llamada a la API de Colab para cargar el archivo\n",
              "                const response = await fetch('/upload', { method: 'POST', body: data });\n",
              "                if (response.ok) {\n",
              "                    google.colab.output.resume();\n",
              "                    console.log('Archivo subido con éxito:', file.name);\n",
              "                } else {\n",
              "                    console.error('Error al subir el archivo.');\n",
              "                }\n",
              "            };\n",
              "            \n",
              "            fileInput.click();\n",
              "        }\n",
              "        \n",
              "        // Crear y mostrar el botón\n",
              "        const button = document.createElement('button');\n",
              "        button.innerText = 'Subir y procesar archivo de audio';\n",
              "        button.onclick = uploadAudio;\n",
              "        document.body.appendChild(button);\n",
              "    "
            ]
          },
          "metadata": {}
        }
      ]
    },
    {
      "cell_type": "code",
      "source": [
        "# Define el nombre del archivo .mp3 que subiste\n",
        "input_file = 'nombre_del_archivo.mp3'  # Cambia este nombre al de tu archivo subido\n",
        "output_file = 'archivo_convertido.wav'\n",
        "\n",
        "# Convertir el archivo de audio a formato .wav\n",
        "audio = AudioSegment.from_mp3(input_file)\n",
        "audio.export(output_file, format=\"wav\")\n",
        "\n",
        "# Configura el reconocimiento de voz\n",
        "recognizer = sr.Recognizer()\n",
        "\n",
        "# Abre el archivo de audio y usa speech_recognition para transcribir\n",
        "with sr.AudioFile(output_file) as source:\n",
        "    audio_data = recognizer.record(source)\n",
        "    try:\n",
        "        text = recognizer.recognize_google(audio_data, language='es-ES')  # Cambia el idioma si es necesario\n",
        "        print(\"Transcripción del audio:\", text)\n",
        "    except sr.UnknownValueError:\n",
        "        print(\"No se pudo entender el audio.\")\n",
        "    except sr.RequestError as e:\n",
        "        print(f\"Error al solicitar los resultados de Google Speech Recognition; {e}\")\n"
      ],
      "metadata": {
        "colab": {
          "base_uri": "https://localhost:8080/",
          "height": 382
        },
        "id": "jUh8oYrL3c9p",
        "outputId": "c05241dc-62c6-4590-b5e0-32385cb980c6"
      },
      "execution_count": 8,
      "outputs": [
        {
          "output_type": "error",
          "ename": "FileNotFoundError",
          "evalue": "[Errno 2] No such file or directory: 'nombre_del_archivo.mp3'",
          "traceback": [
            "\u001b[0;31m---------------------------------------------------------------------------\u001b[0m",
            "\u001b[0;31mFileNotFoundError\u001b[0m                         Traceback (most recent call last)",
            "\u001b[0;32m<ipython-input-8-2ef7e6ba6926>\u001b[0m in \u001b[0;36m<cell line: 6>\u001b[0;34m()\u001b[0m\n\u001b[1;32m      4\u001b[0m \u001b[0;34m\u001b[0m\u001b[0m\n\u001b[1;32m      5\u001b[0m \u001b[0;31m# Convertir el archivo de audio a formato .wav\u001b[0m\u001b[0;34m\u001b[0m\u001b[0;34m\u001b[0m\u001b[0m\n\u001b[0;32m----> 6\u001b[0;31m \u001b[0maudio\u001b[0m \u001b[0;34m=\u001b[0m \u001b[0mAudioSegment\u001b[0m\u001b[0;34m.\u001b[0m\u001b[0mfrom_mp3\u001b[0m\u001b[0;34m(\u001b[0m\u001b[0minput_file\u001b[0m\u001b[0;34m)\u001b[0m\u001b[0;34m\u001b[0m\u001b[0;34m\u001b[0m\u001b[0m\n\u001b[0m\u001b[1;32m      7\u001b[0m \u001b[0maudio\u001b[0m\u001b[0;34m.\u001b[0m\u001b[0mexport\u001b[0m\u001b[0;34m(\u001b[0m\u001b[0moutput_file\u001b[0m\u001b[0;34m,\u001b[0m \u001b[0mformat\u001b[0m\u001b[0;34m=\u001b[0m\u001b[0;34m\"wav\"\u001b[0m\u001b[0;34m)\u001b[0m\u001b[0;34m\u001b[0m\u001b[0;34m\u001b[0m\u001b[0m\n\u001b[1;32m      8\u001b[0m \u001b[0;34m\u001b[0m\u001b[0m\n",
            "\u001b[0;32m/usr/local/lib/python3.10/dist-packages/pydub/audio_segment.py\u001b[0m in \u001b[0;36mfrom_mp3\u001b[0;34m(cls, file, parameters)\u001b[0m\n\u001b[1;32m    794\u001b[0m     \u001b[0;34m@\u001b[0m\u001b[0mclassmethod\u001b[0m\u001b[0;34m\u001b[0m\u001b[0;34m\u001b[0m\u001b[0m\n\u001b[1;32m    795\u001b[0m     \u001b[0;32mdef\u001b[0m \u001b[0mfrom_mp3\u001b[0m\u001b[0;34m(\u001b[0m\u001b[0mcls\u001b[0m\u001b[0;34m,\u001b[0m \u001b[0mfile\u001b[0m\u001b[0;34m,\u001b[0m \u001b[0mparameters\u001b[0m\u001b[0;34m=\u001b[0m\u001b[0;32mNone\u001b[0m\u001b[0;34m)\u001b[0m\u001b[0;34m:\u001b[0m\u001b[0;34m\u001b[0m\u001b[0;34m\u001b[0m\u001b[0m\n\u001b[0;32m--> 796\u001b[0;31m         \u001b[0;32mreturn\u001b[0m \u001b[0mcls\u001b[0m\u001b[0;34m.\u001b[0m\u001b[0mfrom_file\u001b[0m\u001b[0;34m(\u001b[0m\u001b[0mfile\u001b[0m\u001b[0;34m,\u001b[0m \u001b[0;34m'mp3'\u001b[0m\u001b[0;34m,\u001b[0m \u001b[0mparameters\u001b[0m\u001b[0;34m=\u001b[0m\u001b[0mparameters\u001b[0m\u001b[0;34m)\u001b[0m\u001b[0;34m\u001b[0m\u001b[0;34m\u001b[0m\u001b[0m\n\u001b[0m\u001b[1;32m    797\u001b[0m \u001b[0;34m\u001b[0m\u001b[0m\n\u001b[1;32m    798\u001b[0m     \u001b[0;34m@\u001b[0m\u001b[0mclassmethod\u001b[0m\u001b[0;34m\u001b[0m\u001b[0;34m\u001b[0m\u001b[0m\n",
            "\u001b[0;32m/usr/local/lib/python3.10/dist-packages/pydub/audio_segment.py\u001b[0m in \u001b[0;36mfrom_file\u001b[0;34m(cls, file, format, codec, parameters, start_second, duration, **kwargs)\u001b[0m\n\u001b[1;32m    649\u001b[0m         \u001b[0;32mexcept\u001b[0m \u001b[0mTypeError\u001b[0m\u001b[0;34m:\u001b[0m\u001b[0;34m\u001b[0m\u001b[0;34m\u001b[0m\u001b[0m\n\u001b[1;32m    650\u001b[0m             \u001b[0mfilename\u001b[0m \u001b[0;34m=\u001b[0m \u001b[0;32mNone\u001b[0m\u001b[0;34m\u001b[0m\u001b[0;34m\u001b[0m\u001b[0m\n\u001b[0;32m--> 651\u001b[0;31m         \u001b[0mfile\u001b[0m\u001b[0;34m,\u001b[0m \u001b[0mclose_file\u001b[0m \u001b[0;34m=\u001b[0m \u001b[0m_fd_or_path_or_tempfile\u001b[0m\u001b[0;34m(\u001b[0m\u001b[0mfile\u001b[0m\u001b[0;34m,\u001b[0m \u001b[0;34m'rb'\u001b[0m\u001b[0;34m,\u001b[0m \u001b[0mtempfile\u001b[0m\u001b[0;34m=\u001b[0m\u001b[0;32mFalse\u001b[0m\u001b[0;34m)\u001b[0m\u001b[0;34m\u001b[0m\u001b[0;34m\u001b[0m\u001b[0m\n\u001b[0m\u001b[1;32m    652\u001b[0m \u001b[0;34m\u001b[0m\u001b[0m\n\u001b[1;32m    653\u001b[0m         \u001b[0;32mif\u001b[0m \u001b[0mformat\u001b[0m\u001b[0;34m:\u001b[0m\u001b[0;34m\u001b[0m\u001b[0;34m\u001b[0m\u001b[0m\n",
            "\u001b[0;32m/usr/local/lib/python3.10/dist-packages/pydub/utils.py\u001b[0m in \u001b[0;36m_fd_or_path_or_tempfile\u001b[0;34m(fd, mode, tempfile)\u001b[0m\n\u001b[1;32m     58\u001b[0m \u001b[0;34m\u001b[0m\u001b[0m\n\u001b[1;32m     59\u001b[0m     \u001b[0;32mif\u001b[0m \u001b[0misinstance\u001b[0m\u001b[0;34m(\u001b[0m\u001b[0mfd\u001b[0m\u001b[0;34m,\u001b[0m \u001b[0mbasestring\u001b[0m\u001b[0;34m)\u001b[0m\u001b[0;34m:\u001b[0m\u001b[0;34m\u001b[0m\u001b[0;34m\u001b[0m\u001b[0m\n\u001b[0;32m---> 60\u001b[0;31m         \u001b[0mfd\u001b[0m \u001b[0;34m=\u001b[0m \u001b[0mopen\u001b[0m\u001b[0;34m(\u001b[0m\u001b[0mfd\u001b[0m\u001b[0;34m,\u001b[0m \u001b[0mmode\u001b[0m\u001b[0;34m=\u001b[0m\u001b[0mmode\u001b[0m\u001b[0;34m)\u001b[0m\u001b[0;34m\u001b[0m\u001b[0;34m\u001b[0m\u001b[0m\n\u001b[0m\u001b[1;32m     61\u001b[0m         \u001b[0mclose_fd\u001b[0m \u001b[0;34m=\u001b[0m \u001b[0;32mTrue\u001b[0m\u001b[0;34m\u001b[0m\u001b[0;34m\u001b[0m\u001b[0m\n\u001b[1;32m     62\u001b[0m \u001b[0;34m\u001b[0m\u001b[0m\n",
            "\u001b[0;31mFileNotFoundError\u001b[0m: [Errno 2] No such file or directory: 'nombre_del_archivo.mp3'"
          ]
        }
      ]
    }
  ]
}