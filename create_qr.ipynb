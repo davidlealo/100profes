{
  "nbformat": 4,
  "nbformat_minor": 0,
  "metadata": {
    "colab": {
      "provenance": [],
      "authorship_tag": "ABX9TyPzhOg9Nc+KdbsqvidzzfSG",
      "include_colab_link": true
    },
    "kernelspec": {
      "name": "python3",
      "display_name": "Python 3"
    },
    "language_info": {
      "name": "python"
    }
  },
  "cells": [
    {
      "cell_type": "markdown",
      "metadata": {
        "id": "view-in-github",
        "colab_type": "text"
      },
      "source": [
        "<a href=\"https://colab.research.google.com/github/davidlealo/100profes/blob/master/create_qr.ipynb\" target=\"_parent\"><img src=\"https://colab.research.google.com/assets/colab-badge.svg\" alt=\"Open In Colab\"/></a>"
      ]
    },
    {
      "cell_type": "code",
      "execution_count": 1,
      "metadata": {
        "colab": {
          "base_uri": "https://localhost:8080/"
        },
        "id": "b6onAKr2-zEb",
        "outputId": "d6e3ab0f-f81f-4f82-d821-2ead65c48a35"
      },
      "outputs": [
        {
          "output_type": "stream",
          "name": "stdout",
          "text": [
            "Collecting qrcode[pil]\n",
            "  Downloading qrcode-7.4.2-py3-none-any.whl.metadata (17 kB)\n",
            "Requirement already satisfied: typing-extensions in /usr/local/lib/python3.10/dist-packages (from qrcode[pil]) (4.12.2)\n",
            "Collecting pypng (from qrcode[pil])\n",
            "  Downloading pypng-0.20220715.0-py3-none-any.whl.metadata (13 kB)\n",
            "Requirement already satisfied: pillow>=9.1.0 in /usr/local/lib/python3.10/dist-packages (from qrcode[pil]) (9.4.0)\n",
            "Downloading pypng-0.20220715.0-py3-none-any.whl (58 kB)\n",
            "\u001b[2K   \u001b[90m━━━━━━━━━━━━━━━━━━━━━━━━━━━━━━━━━━━━━━━━\u001b[0m \u001b[32m58.1/58.1 kB\u001b[0m \u001b[31m1.5 MB/s\u001b[0m eta \u001b[36m0:00:00\u001b[0m\n",
            "\u001b[?25hDownloading qrcode-7.4.2-py3-none-any.whl (46 kB)\n",
            "\u001b[2K   \u001b[90m━━━━━━━━━━━━━━━━━━━━━━━━━━━━━━━━━━━━━━━━\u001b[0m \u001b[32m46.2/46.2 kB\u001b[0m \u001b[31m2.0 MB/s\u001b[0m eta \u001b[36m0:00:00\u001b[0m\n",
            "\u001b[?25hInstalling collected packages: pypng, qrcode\n",
            "Successfully installed pypng-0.20220715.0 qrcode-7.4.2\n"
          ]
        }
      ],
      "source": [
        "%pip install qrcode[pil]"
      ]
    },
    {
      "cell_type": "code",
      "source": [
        "import qrcode\n",
        "\n",
        "# Datos que quieres convertir en un QR\n",
        "data = \"http://10.24.1.130:3000\"\n",
        "\n",
        "# Crea una instancia de QRCode\n",
        "qr = qrcode.QRCode(\n",
        "    version=1,  # controlará el tamaño del QR (1 a 40)\n",
        "    error_correction=qrcode.constants.ERROR_CORRECT_L,  # nivel de corrección de errores\n",
        "    box_size=10,  # tamaño de cada cuadro del QR\n",
        "    border=4,  # tamaño del borde\n",
        ")\n",
        "\n",
        "# Agrega los datos al QR\n",
        "qr.add_data(data)\n",
        "qr.make(fit=True)\n",
        "\n",
        "# Genera la imagen del QR\n",
        "img = qr.make_image(fill_color=\"black\", back_color=\"white\")\n",
        "\n",
        "# Guarda la imagen\n",
        "img.save(\"qr_ip.png\")\n",
        "\n",
        "# Mostrar la imagen (opcional)\n",
        "img.show()"
      ],
      "metadata": {
        "id": "bWE1gebL-3xm"
      },
      "execution_count": 2,
      "outputs": []
    }
  ]
}