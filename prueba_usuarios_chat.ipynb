{
  "nbformat": 4,
  "nbformat_minor": 0,
  "metadata": {
    "colab": {
      "provenance": [],
      "authorship_tag": "ABX9TyN0mcedQK25fyrQhM2TznjN",
      "include_colab_link": true
    },
    "kernelspec": {
      "name": "python3",
      "display_name": "Python 3"
    },
    "language_info": {
      "name": "python"
    }
  },
  "cells": [
    {
      "cell_type": "markdown",
      "metadata": {
        "id": "view-in-github",
        "colab_type": "text"
      },
      "source": [
        "<a href=\"https://colab.research.google.com/github/davidlealo/100profes/blob/master/prueba_usuarios_chat.ipynb\" target=\"_parent\"><img src=\"https://colab.research.google.com/assets/colab-badge.svg\" alt=\"Open In Colab\"/></a>"
      ]
    },
    {
      "cell_type": "code",
      "execution_count": 1,
      "metadata": {
        "colab": {
          "base_uri": "https://localhost:8080/"
        },
        "id": "l4zgdv3iC-dq",
        "outputId": "74742d76-4f06-4da4-fef0-6f040e5bb2ed"
      },
      "outputs": [
        {
          "name": "stdout",
          "output_type": "stream",
          "text": [
            "Prueba de Chat con Memoria\n",
            "Ingresa tu ID de usuario (escribe 'salir' para terminar): 1\n",
            "Tú: David\n",
            "[INFO] Nueva sesión creada para el usuario: 1\n",
            "Chatbot: Hola, 1. Me dijiste: David. Es nuestra primera conversación.\n",
            "Ingresa tu ID de usuario (escribe 'salir' para terminar): 1\n",
            "Tú: David\n",
            "Chatbot: Hola, 1. Me dijiste: David. Recuerdo que también mencionaste: David.\n",
            "Ingresa tu ID de usuario (escribe 'salir' para terminar): 1\n",
            "Tú: Hola\n",
            "Chatbot: Hola, 1. Me dijiste: Hola. Recuerdo que también mencionaste: David | David.\n",
            "Ingresa tu ID de usuario (escribe 'salir' para terminar): 2\n",
            "Tú: Bea\n",
            "[INFO] Nueva sesión creada para el usuario: 2\n",
            "Chatbot: Hola, 2. Me dijiste: Bea. Es nuestra primera conversación.\n",
            "Ingresa tu ID de usuario (escribe 'salir' para terminar): salir\n"
          ]
        }
      ],
      "source": [
        "# Simulación de un chat con memoria de usuario\n",
        "\n",
        "# Memoria para almacenar el contexto por usuario (simulación en memoria)\n",
        "user_sessions = {}\n",
        "\n",
        "# Función para manejar la interacción con el usuario\n",
        "def chat_with_user(user_id, message):\n",
        "    # Recuperar el contexto del usuario si existe\n",
        "    if user_id not in user_sessions:\n",
        "        user_sessions[user_id] = {\"context\": []}\n",
        "        print(f\"[INFO] Nueva sesión creada para el usuario: {user_id}\")\n",
        "\n",
        "    context = user_sessions[user_id][\"context\"]\n",
        "\n",
        "    # Crear la respuesta basándonos en el contexto\n",
        "    response = f\"Hola, {user_id}. Me dijiste: {message}. \"\n",
        "    if context:\n",
        "        response += f\"Recuerdo que también mencionaste: {' | '.join(context)}.\"\n",
        "    else:\n",
        "        response += \"Es nuestra primera conversación.\"\n",
        "\n",
        "    # Actualizar el contexto con el mensaje actual\n",
        "    context.append(message)\n",
        "    user_sessions[user_id][\"context\"] = context\n",
        "\n",
        "    return response\n",
        "\n",
        "# Probar el sistema de chat\n",
        "print(\"Prueba de Chat con Memoria\")\n",
        "while True:\n",
        "    user_id = input(\"Ingresa tu ID de usuario (escribe 'salir' para terminar): \")\n",
        "    if user_id.lower() == \"salir\":\n",
        "        break\n",
        "    message = input(\"Tú: \")\n",
        "    response = chat_with_user(user_id, message)\n",
        "    print(f\"Chatbot: {response}\")\n"
      ]
    }
  ]
}