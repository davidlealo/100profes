{
  "nbformat": 4,
  "nbformat_minor": 0,
  "metadata": {
    "colab": {
      "provenance": [],
      "authorship_tag": "ABX9TyPBXTvf+qhlzpyMn9kegz4J",
      "include_colab_link": true
    },
    "kernelspec": {
      "name": "python3",
      "display_name": "Python 3"
    },
    "language_info": {
      "name": "python"
    }
  },
  "cells": [
    {
      "cell_type": "markdown",
      "metadata": {
        "id": "view-in-github",
        "colab_type": "text"
      },
      "source": [
        "<a href=\"https://colab.research.google.com/github/davidlealo/100profes/blob/master/modelo_transcripcion_segmentacion.ipynb\" target=\"_parent\"><img src=\"https://colab.research.google.com/assets/colab-badge.svg\" alt=\"Open In Colab\"/></a>"
      ]
    },
    {
      "cell_type": "code",
      "source": [
        "# Instalar dependencias\n",
        "!pip install openai-whisper pyannote.audio spacy\n",
        "!python -m spacy download en_core_web_sm\n",
        "\n",
        "# Importar librerías\n",
        "from pyannote.audio import Pipeline\n",
        "from whisper import load_model\n",
        "import spacy\n",
        "import os\n",
        "\n",
        "# Configurar modelos y tokens\n",
        "HUGGINGFACE_TOKEN = \"tu_token_huggingface\"\n",
        "whisper_model = load_model(\"base\")\n",
        "nlp = spacy.load(\"en_core_web_sm\")\n",
        "\n",
        "# Descargar el pipeline de diarización\n",
        "diarization_pipeline = Pipeline.from_pretrained(\n",
        "    \"pyannote/speaker-diarization\",\n",
        "    use_auth_token=HUGGINGFACE_TOKEN\n",
        ")\n",
        "\n",
        "# Función para procesar un archivo de audio\n",
        "def process_audio(file_path):\n",
        "    # Diarización\n",
        "    diarization = diarization_pipeline(file_path)\n",
        "    person_mapping = {}\n",
        "\n",
        "    for turn, _, speaker in diarization.itertracks(yield_label=True):\n",
        "        start, end = int(turn.start * 1000), int(turn.end * 1000)\n",
        "        text = whisper_model.transcribe(file_path, task=\"transcribe\", segment=(start, end))['text']\n",
        "\n",
        "        # Analizar texto para detectar nombres\n",
        "        doc = nlp(text)\n",
        "        names = [ent.text for ent in doc.ents if ent.label_ == \"PERSON\"]\n",
        "\n",
        "        if names:\n",
        "            person_mapping[speaker] = names[0]\n",
        "\n",
        "    return {\"person_mapping\": person_mapping}\n",
        "\n",
        "# Subir archivo de audio\n",
        "from google.colab import files\n",
        "uploaded = files.upload()\n",
        "\n",
        "# Procesar archivo subido\n",
        "for file_name in uploaded.keys():\n",
        "    result = process_audio(file_name)\n",
        "    print(result)\n"
      ],
      "metadata": {
        "id": "yfCRzIjhf_NX",
        "outputId": "45c62acf-901f-48b0-fc55-45baceeaed88",
        "colab": {
          "base_uri": "https://localhost:8080/"
        }
      },
      "execution_count": null,
      "outputs": [
        {
          "output_type": "stream",
          "name": "stdout",
          "text": [
            "Collecting openai-whisper\n",
            "  Downloading openai-whisper-20240930.tar.gz (800 kB)\n",
            "\u001b[?25l     \u001b[90m━━━━━━━━━━━━━━━━━━━━━━━━━━━━━━━━━━━━━━━━\u001b[0m \u001b[32m0.0/800.5 kB\u001b[0m \u001b[31m?\u001b[0m eta \u001b[36m-:--:--\u001b[0m\r\u001b[2K     \u001b[91m━━━━━━━━━━━━━━━━━━━━━━━━━━━━━━━━━━━━━━━\u001b[0m\u001b[91m╸\u001b[0m \u001b[32m798.7/800.5 kB\u001b[0m \u001b[31m57.2 MB/s\u001b[0m eta \u001b[36m0:00:01\u001b[0m\r\u001b[2K     \u001b[90m━━━━━━━━━━━━━━━━━━━━━━━━━━━━━━━━━━━━━━━━\u001b[0m \u001b[32m800.5/800.5 kB\u001b[0m \u001b[31m18.7 MB/s\u001b[0m eta \u001b[36m0:00:00\u001b[0m\n",
            "\u001b[?25h  Installing build dependencies ... \u001b[?25l\u001b[?25hdone\n"
          ]
        }
      ]
    }
  ]
}