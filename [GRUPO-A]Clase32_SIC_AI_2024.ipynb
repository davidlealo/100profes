{
  "nbformat": 4,
  "nbformat_minor": 0,
  "metadata": {
    "colab": {
      "provenance": [],
      "authorship_tag": "ABX9TyPDHsjjlusNPoYD7Lse5Wqj",
      "include_colab_link": true
    },
    "kernelspec": {
      "name": "python3",
      "display_name": "Python 3"
    },
    "language_info": {
      "name": "python"
    }
  },
  "cells": [
    {
      "cell_type": "markdown",
      "metadata": {
        "id": "view-in-github",
        "colab_type": "text"
      },
      "source": [
        "<a href=\"https://colab.research.google.com/github/davidlealo/100profes/blob/master/%5BGRUPO-A%5DClase32_SIC_AI_2024.ipynb\" target=\"_parent\"><img src=\"https://colab.research.google.com/assets/colab-badge.svg\" alt=\"Open In Colab\"/></a>"
      ]
    },
    {
      "cell_type": "code",
      "execution_count": 1,
      "metadata": {
        "colab": {
          "base_uri": "https://localhost:8080/",
          "height": 128
        },
        "id": "jRUpw5ZhcGu4",
        "outputId": "a42d496f-92cc-4626-f530-a9b0ff23fbf4"
      },
      "outputs": [
        {
          "output_type": "display_data",
          "data": {
            "text/plain": [
              "<IPython.core.display.Javascript object>"
            ],
            "application/javascript": [
              "\n",
              "        var div = document.createElement('div');\n",
              "        var btn1 = document.createElement('button');\n",
              "        btn1.innerHTML = 'Me gusta';\n",
              "        btn1.onclick = function() { \n",
              "          google.colab.kernel.invokeFunction('notebook.callback', ['Me gusta'], {}); \n",
              "        };\n",
              "        \n",
              "        var btn2 = document.createElement('button');\n",
              "        btn2.innerHTML = 'No me gusta';\n",
              "        btn2.onclick = function() { \n",
              "          google.colab.kernel.invokeFunction('notebook.callback', ['No me gusta'], {}); \n",
              "        };\n",
              "\n",
              "        div.appendChild(btn1);\n",
              "        div.appendChild(btn2);\n",
              "        document.body.appendChild(div);\n",
              "    "
            ]
          },
          "metadata": {}
        },
        {
          "output_type": "stream",
          "name": "stdout",
          "text": [
            "Has elegido: Me gusta\n",
            "Has elegido: No me gusta\n",
            "Has elegido: Me gusta\n",
            "Has elegido: No me gusta\n",
            "Has elegido: Me gusta\n"
          ]
        }
      ],
      "source": [
        "from IPython.display import Javascript, display\n",
        "from google.colab.output import eval_js\n",
        "\n",
        "# Función para crear botones\n",
        "def create_buttons():\n",
        "    display(Javascript('''\n",
        "        var div = document.createElement('div');\n",
        "        var btn1 = document.createElement('button');\n",
        "        btn1.innerHTML = 'Me gusta';\n",
        "        btn1.onclick = function() {\n",
        "          google.colab.kernel.invokeFunction('notebook.callback', ['Me gusta'], {});\n",
        "        };\n",
        "\n",
        "        var btn2 = document.createElement('button');\n",
        "        btn2.innerHTML = 'No me gusta';\n",
        "        btn2.onclick = function() {\n",
        "          google.colab.kernel.invokeFunction('notebook.callback', ['No me gusta'], {});\n",
        "        };\n",
        "\n",
        "        div.appendChild(btn1);\n",
        "        div.appendChild(btn2);\n",
        "        document.body.appendChild(div);\n",
        "    '''))\n",
        "\n",
        "# Función para manejar la elección\n",
        "def handle_choice(choice):\n",
        "    print(f'Has elegido: {choice}')\n",
        "\n",
        "# Registrar la función en Google Colab\n",
        "from google.colab import output\n",
        "output.register_callback('notebook.callback', handle_choice)\n",
        "\n",
        "# Mostrar los botones\n",
        "create_buttons()\n"
      ]
    },
    {
      "cell_type": "code",
      "source": [
        "# Para conocer más de la library\n",
        "# https://ipython.readthedocs.io/en/8.26.0/api/generated/IPython.display.html"
      ],
      "metadata": {
        "id": "5GKYomw9dWPp"
      },
      "execution_count": null,
      "outputs": []
    },
    {
      "cell_type": "markdown",
      "source": [
        "### Acá necesitamos mucho tiempo"
      ],
      "metadata": {
        "id": "3vTXRN5owoZq"
      }
    },
    {
      "cell_type": "code",
      "source": [
        "# https://github.com/Crone1/Last.fm-Recommender-System/"
      ],
      "metadata": {
        "id": "Ygh9jDAnwS0V"
      },
      "execution_count": null,
      "outputs": []
    },
    {
      "cell_type": "markdown",
      "source": [
        "### Rápido, pero debemos aprender a usar implicit"
      ],
      "metadata": {
        "id": "VSjf5UXWwr8A"
      }
    },
    {
      "cell_type": "code",
      "source": [
        "# https://github.com/BambooPalace/learn-musiccollaborativefiltering/"
      ],
      "metadata": {
        "id": "n1n7k44lwmtR"
      },
      "execution_count": null,
      "outputs": []
    },
    {
      "cell_type": "code",
      "source": [
        "# Proyecto para mejorar:\n",
        "https://github.com/davidlealo/sic_ai_2024/blob/main/007_proyecto/IA_Music.ipynb"
      ],
      "metadata": {
        "id": "ab1Bm35-EFhS"
      },
      "execution_count": null,
      "outputs": []
    }
  ]
}